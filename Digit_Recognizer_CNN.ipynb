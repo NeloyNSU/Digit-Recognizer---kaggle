{
 "cells": [
  {
   "cell_type": "code",
   "execution_count": 1,
   "metadata": {},
   "outputs": [
    {
     "name": "stderr",
     "output_type": "stream",
     "text": [
      "Using TensorFlow backend.\n"
     ]
    },
    {
     "name": "stdout",
     "output_type": "stream",
     "text": [
      "keras version: 2.2.4\n",
      "tensorflow version: 1.12.0\n"
     ]
    }
   ],
   "source": [
    "import numpy as np\n",
    "import scipy as sp\n",
    "import pandas as pd\n",
    "from time import time\n",
    "\n",
    "import warnings\n",
    "warnings.filterwarnings('ignore')\n",
    "from IPython.core.display import HTML, display\n",
    "\n",
    "import matplotlib.pylab as plt\n",
    "import matplotlib.cm as cm\n",
    "\n",
    "import cv2\n",
    "\n",
    "%matplotlib inline\n",
    "\n",
    "import keras as ks\n",
    "import tensorflow as tf\n",
    "from keras.models import Sequential, load_model, Model\n",
    "from keras.preprocessing.image import ImageDataGenerator\n",
    "from keras.optimizers import SGD, RMSprop\n",
    "from keras.layers import Dense, Dropout, LSTM, ConvLSTM2D, Reshape\n",
    "from keras.layers import Activation, Flatten, Input, BatchNormalization\n",
    "from keras.layers import Conv1D, MaxPooling1D, Conv2D, MaxPooling2D\n",
    "from keras.layers import AveragePooling2D, GlobalMaxPooling2D, GlobalAveragePooling2D\n",
    "from keras.layers.embeddings import Embedding\n",
    "from keras.layers.advanced_activations import PReLU, LeakyReLU\n",
    "from keras.callbacks import ModelCheckpoint\n",
    "from keras.callbacks import EarlyStopping, ReduceLROnPlateau\n",
    "from keras.applications.inception_v3 import InceptionV3 \n",
    "from keras.applications.vgg16 import VGG16 \n",
    "from keras.applications.vgg19 import VGG19\n",
    "\n",
    "\n",
    "from sklearn.neural_network import MLPClassifier\n",
    "from sklearn import linear_model, neighbors, svm, ensemble\n",
    "from sklearn import datasets, metrics \n",
    "from sklearn.model_selection import train_test_split\n",
    "from sklearn.feature_selection import VarianceThreshold, SelectKBest, chi2\n",
    "from sklearn.decomposition import PCA\n",
    "\n",
    "from skimage import transform\n",
    "\n",
    "\n",
    "from keras import __version__\n",
    "print('keras version:', __version__)\n",
    "print('tensorflow version:', tf.__version__)"
   ]
  },
  {
   "cell_type": "code",
   "execution_count": 2,
   "metadata": {},
   "outputs": [
    {
     "data": {
      "text/plain": [
       "(42000, 785)"
      ]
     },
     "execution_count": 2,
     "metadata": {},
     "output_type": "execute_result"
    }
   ],
   "source": [
    "df_train = pd.read_csv(\"train.csv\")\n",
    "df_test = pd.read_csv(\"test.csv\")\n",
    "df_train.shape"
   ]
  },
  {
   "cell_type": "code",
   "execution_count": 3,
   "metadata": {},
   "outputs": [
    {
     "data": {
      "text/html": [
       "<div>\n",
       "<style scoped>\n",
       "    .dataframe tbody tr th:only-of-type {\n",
       "        vertical-align: middle;\n",
       "    }\n",
       "\n",
       "    .dataframe tbody tr th {\n",
       "        vertical-align: top;\n",
       "    }\n",
       "\n",
       "    .dataframe thead th {\n",
       "        text-align: right;\n",
       "    }\n",
       "</style>\n",
       "<table border=\"1\" class=\"dataframe\">\n",
       "  <thead>\n",
       "    <tr style=\"text-align: right;\">\n",
       "      <th></th>\n",
       "      <th>pixel14</th>\n",
       "      <th>pixel15</th>\n",
       "      <th>pixel16</th>\n",
       "      <th>pixel17</th>\n",
       "      <th>pixel18</th>\n",
       "    </tr>\n",
       "  </thead>\n",
       "  <tbody>\n",
       "    <tr>\n",
       "      <th>15</th>\n",
       "      <td>0</td>\n",
       "      <td>0</td>\n",
       "      <td>0</td>\n",
       "      <td>0</td>\n",
       "      <td>0</td>\n",
       "    </tr>\n",
       "    <tr>\n",
       "      <th>16</th>\n",
       "      <td>0</td>\n",
       "      <td>0</td>\n",
       "      <td>0</td>\n",
       "      <td>0</td>\n",
       "      <td>0</td>\n",
       "    </tr>\n",
       "    <tr>\n",
       "      <th>17</th>\n",
       "      <td>0</td>\n",
       "      <td>0</td>\n",
       "      <td>0</td>\n",
       "      <td>0</td>\n",
       "      <td>0</td>\n",
       "    </tr>\n",
       "    <tr>\n",
       "      <th>18</th>\n",
       "      <td>0</td>\n",
       "      <td>0</td>\n",
       "      <td>0</td>\n",
       "      <td>0</td>\n",
       "      <td>0</td>\n",
       "    </tr>\n",
       "    <tr>\n",
       "      <th>19</th>\n",
       "      <td>0</td>\n",
       "      <td>0</td>\n",
       "      <td>0</td>\n",
       "      <td>0</td>\n",
       "      <td>0</td>\n",
       "    </tr>\n",
       "    <tr>\n",
       "      <th>20</th>\n",
       "      <td>0</td>\n",
       "      <td>0</td>\n",
       "      <td>0</td>\n",
       "      <td>0</td>\n",
       "      <td>0</td>\n",
       "    </tr>\n",
       "  </tbody>\n",
       "</table>\n",
       "</div>"
      ],
      "text/plain": [
       "    pixel14  pixel15  pixel16  pixel17  pixel18\n",
       "15        0        0        0        0        0\n",
       "16        0        0        0        0        0\n",
       "17        0        0        0        0        0\n",
       "18        0        0        0        0        0\n",
       "19        0        0        0        0        0\n",
       "20        0        0        0        0        0"
      ]
     },
     "execution_count": 3,
     "metadata": {},
     "output_type": "execute_result"
    }
   ],
   "source": [
    "df_train.ix[15:20,15:20]"
   ]
  },
  {
   "cell_type": "code",
   "execution_count": 4,
   "metadata": {},
   "outputs": [
    {
     "data": {
      "text/plain": [
       "(42000, 784)"
      ]
     },
     "execution_count": 4,
     "metadata": {},
     "output_type": "execute_result"
    }
   ],
   "source": [
    "images = [\"%s%s\" %(\"pixel\",pixel_no) for pixel_no in range(0,784)]\n",
    "train_images = np.array(df_train[images])\n",
    "train_images = train_images.astype('float32')/255\n",
    "train_images.shape"
   ]
  },
  {
   "cell_type": "code",
   "execution_count": 5,
   "metadata": {},
   "outputs": [
    {
     "data": {
      "text/plain": [
       "(42000, 10)"
      ]
     },
     "execution_count": 5,
     "metadata": {},
     "output_type": "execute_result"
    }
   ],
   "source": [
    "train_labels = df_train['label']\n",
    "train_labels_cat = ks.utils.to_categorical(train_labels, num_classes=10)\n",
    "train_labels_cat.shape"
   ]
  },
  {
   "cell_type": "code",
   "execution_count": 6,
   "metadata": {},
   "outputs": [
    {
     "data": {
      "text/plain": [
       "(28000, 784)"
      ]
     },
     "execution_count": 6,
     "metadata": {},
     "output_type": "execute_result"
    }
   ],
   "source": [
    "test_images = np.array(df_test[images])\n",
    "test_images = test_images.astype('float32')/255\n",
    "test_images.shape"
   ]
  },
  {
   "cell_type": "code",
   "execution_count": 7,
   "metadata": {},
   "outputs": [],
   "source": [
    "#Preprocessing\n",
    "\n",
    "def find_borders(x):\n",
    "    left, right, top, bottom = [], [], [], []\n",
    "    \n",
    "    for k in range(x.shape[0]):\n",
    "        \n",
    "        for j in range(28):\n",
    "            for i in range(28):\n",
    "                if (x[k,28*i+j] >= 0.4):\n",
    "                    left.append(j)\n",
    "                    break\n",
    "            if (len(left) > k):\n",
    "                break\n",
    "                \n",
    "        for j in range(28):\n",
    "            for i in range(28):\n",
    "                if (x[k, 28*i+(28-1-j)] >= 0.4):\n",
    "                    right.append(28-1-j)\n",
    "                    break\n",
    "            if (len(right) > k):\n",
    "                break \n",
    "                \n",
    "        for i in range(28):\n",
    "            for j in range(28):\n",
    "                if (x[k,28*i+j] >= 0.4):\n",
    "                    top.append(i)\n",
    "                    break\n",
    "            if (len(top) > k):\n",
    "                break \n",
    "                \n",
    "        for i in range(28):\n",
    "            for j in range(28):\n",
    "                if (x[k,28*(28-1-i)+j] >= 0.4):\n",
    "                    bottom.append(28-1-i)\n",
    "                    break\n",
    "            if (len(bottom) > k):\n",
    "                break       \n",
    "        \n",
    "    return left, right, top, bottom"
   ]
  },
  {
   "cell_type": "code",
   "execution_count": 8,
   "metadata": {},
   "outputs": [],
   "source": [
    "def resize_images(x):\n",
    "    left, right, top, bottom = find_borders(x)    \n",
    "    x = x.reshape(-1,28,28)\n",
    "    \n",
    "    for i in range(x.shape[0]):      \n",
    "        x[i] = transform.resize(x[i][top[i]:bottom[i]+1,left[i]:right[i]+1],(28,28))\n",
    "#        x[i] = transform.resize(x[i][top[i]:bottom[i]+1,left[i]:right[i]+1],(24,24))    \n",
    "    return(x.reshape(-1,28**2))\n",
    "#    return(x.reshape(-1,24**2))"
   ]
  },
  {
   "cell_type": "code",
   "execution_count": 9,
   "metadata": {},
   "outputs": [],
   "source": [
    "def variance_threshold(train, test):\n",
    "    selector = VarianceThreshold(threshold=0).fit(train)\n",
    "    train = selector.transform(train)\n",
    "    test = selector.transform(test)\n",
    "    return train, test"
   ]
  },
  {
   "cell_type": "code",
   "execution_count": 10,
   "metadata": {},
   "outputs": [],
   "source": [
    "def select_kbest(train, train_categories, test):\n",
    "    selector = SelectKBest(chi2, k=512).fit(train, train_categories)\n",
    "    train = selector.transform(train)\n",
    "    test = selector.transform(test)\n",
    "    return train, test"
   ]
  },
  {
   "cell_type": "code",
   "execution_count": 11,
   "metadata": {},
   "outputs": [],
   "source": [
    "def pca(train, test):\n",
    "    pca = PCA(n_components=0.95)\n",
    "    pca.fit(train)\n",
    "    train = pca.transform(train)\n",
    "    test = pca.transform(test)\n",
    "    return train, test"
   ]
  },
  {
   "cell_type": "code",
   "execution_count": 12,
   "metadata": {},
   "outputs": [],
   "source": [
    "X_train, X_test, y_train, y_test = train_test_split(train_images, train_labels_cat, \n",
    "                                                    test_size=0.2, random_state=32)"
   ]
  },
  {
   "cell_type": "code",
   "execution_count": 13,
   "metadata": {},
   "outputs": [
    {
     "data": {
      "text/plain": [
       "((33600, 784), (4200, 784), (4200, 784), (33600, 10), (4200, 10), (4200, 10))"
      ]
     },
     "execution_count": 13,
     "metadata": {},
     "output_type": "execute_result"
    }
   ],
   "source": [
    "n = int(len(X_test)/2)\n",
    "X_valid, y_valid = X_test[:n], y_test[:n]\n",
    "X_test, y_test = X_test[n:], y_test[n:]\n",
    "X_train.shape, X_test.shape, X_valid.shape, y_train.shape, y_test.shape, y_valid.shape"
   ]
  },
  {
   "cell_type": "code",
   "execution_count": 14,
   "metadata": {},
   "outputs": [],
   "source": [
    "y_train_num = np.array([np.argmax(x) for x in y_train])\n",
    "y_test_num = np.array([np.argmax(x) for x in y_test])\n",
    "y_valid_num = np.array([np.argmax(x) for x in y_valid])"
   ]
  },
  {
   "cell_type": "code",
   "execution_count": 15,
   "metadata": {},
   "outputs": [],
   "source": [
    "X_train_app = [cv2.cvtColor(cv2.resize(i, (32,32)), cv2.COLOR_GRAY2BGR) for i in X_train]\n",
    "X_train_app = np.concatenate([arr[np.newaxis] for arr in X_train_app]).astype('float32')\n",
    "\n",
    "X_test_app = [cv2.cvtColor(cv2.resize(i, (32,32)), cv2.COLOR_GRAY2BGR) for i in X_test]\n",
    "X_test_app = np.concatenate([arr[np.newaxis] for arr in X_test_app]).astype('float32')\n",
    "\n",
    "X_valid_app = [cv2.cvtColor(cv2.resize(i, (32,32)), cv2.COLOR_GRAY2BGR) for i in X_valid]\n",
    "X_valid_app = np.concatenate([arr[np.newaxis] for arr in X_valid_app]).astype('float32')"
   ]
  },
  {
   "cell_type": "code",
   "execution_count": 16,
   "metadata": {},
   "outputs": [
    {
     "data": {
      "text/plain": [
       "((33600, 32, 32, 3),\n",
       " (4200, 32, 32, 3),\n",
       " (4200, 32, 32, 3),\n",
       " (33600, 10),\n",
       " (4200, 10),\n",
       " (4200, 10))"
      ]
     },
     "execution_count": 16,
     "metadata": {},
     "output_type": "execute_result"
    }
   ],
   "source": [
    "X_train_app.shape, X_test_app.shape, X_valid_app.shape, y_train.shape, y_test.shape, y_valid.shape"
   ]
  },
  {
   "cell_type": "code",
   "execution_count": 17,
   "metadata": {},
   "outputs": [
    {
     "data": {
      "image/png": "[encoded data removed]",
      "text/plain": [
       "<Figure size 1296x144 with 15 Axes>"
      ]
     },
     "metadata": {},
     "output_type": "display_data"
    }
   ],
   "source": [
    "#Visualize\n",
    "\n",
    "fig, ax = plt.subplots(figsize=(18, 2), nrows=1, ncols=15, sharex=True, sharey=True,)\n",
    "ax = ax.flatten()\n",
    "\n",
    "for i in range(15):\n",
    "    image = train_images[i].reshape(28,28)\n",
    "    ax[i].imshow(image, cmap=cm.bone)\n",
    "\n",
    "ax[0].set_xticks([])\n",
    "ax[0].set_yticks([])\n",
    "plt.tight_layout()\n",
    "plt.gcf()\n",
    "ax[7].set_title('Examples of the 784-dimensional digits', fontsize=25);"
   ]
  },
  {
   "cell_type": "code",
   "execution_count": 18,
   "metadata": {},
   "outputs": [],
   "source": [
    "X_train_tensor = tf.image.grayscale_to_rgb(X_train.reshape(-1, 28, 28, 1), name=None)\n",
    "X_test_tensor = tf.image.grayscale_to_rgb(X_test.reshape(-1, 28, 28, 1), name=None)\n",
    "X_valid_tensor = tf.image.grayscale_to_rgb(X_valid.reshape(-1, 28, 28, 1), name=None)"
   ]
  },
  {
   "cell_type": "code",
   "execution_count": 19,
   "metadata": {},
   "outputs": [],
   "source": [
    "sess = tf.Session()\n",
    "with sess.as_default():\n",
    "    X_train_color = X_train_tensor.eval()\n",
    "    X_test_color = X_test_tensor.eval()\n",
    "    X_valid_color = X_valid_tensor.eval()"
   ]
  },
  {
   "cell_type": "code",
   "execution_count": 20,
   "metadata": {},
   "outputs": [
    {
     "data": {
      "text/plain": [
       "((33600, 28, 28, 3), (4200, 28, 28, 3), (4200, 28, 28, 3))"
      ]
     },
     "execution_count": 20,
     "metadata": {},
     "output_type": "execute_result"
    }
   ],
   "source": [
    "X_train_color.shape, X_test_color.shape, X_valid_color.shape"
   ]
  },
  {
   "cell_type": "code",
   "execution_count": 21,
   "metadata": {},
   "outputs": [
    {
     "data": {
      "image/png": "[encoded data removed]",
      "text/plain": [
       "<Figure size 432x288 with 1 Axes>"
      ]
     },
     "metadata": {
      "needs_background": "light"
     },
     "output_type": "display_data"
    }
   ],
   "source": [
    "plt.imshow(X_test_color[0]);"
   ]
  },
  {
   "cell_type": "code",
   "execution_count": 22,
   "metadata": {},
   "outputs": [],
   "source": [
    "#CNN_Models\n",
    "\n",
    "def cnn_mc_model():\n",
    "    model_input = Input(shape=(28, 28, 1))\n",
    "    x = BatchNormalization()(model_input)\n",
    "    \n",
    "    x = Conv2D(28, (5, 5), padding='same')(x)\n",
    "    x = LeakyReLU(alpha=0.02)(x)\n",
    "    x = MaxPooling2D(pool_size=(2, 2))(x)\n",
    "    x = Dropout(0.25)(x)\n",
    "    \n",
    "    x = Conv2D(128, (5, 5))(x)\n",
    "    x = LeakyReLU(alpha=0.02)(x)\n",
    "    x = MaxPooling2D(strides=(2, 2))(x)\n",
    "    x = Dropout(0.25)(x)   \n",
    "\n",
    "    x = GlobalMaxPooling2D()(x)\n",
    "    \n",
    "    x = Dense(1024)(x)\n",
    "    x = LeakyReLU(alpha=0.02)(x)\n",
    "    x = Dropout(0.5)(x)\n",
    "    \n",
    "#    x = Reshape((1, 128), input_shape=(128,))(x)\n",
    "#    x = LSTM(128, activation='relu')(x)\n",
    "    \n",
    "    y = Dense(10, activation='softmax')(x)\n",
    "    \n",
    "    model = Model(input=model_input, output=y)\n",
    "    model.compile(loss='categorical_crossentropy', optimizer='nadam', metrics=['accuracy'])\n",
    "    \n",
    "    return model\n",
    "\n",
    "cnn_mc_model = cnn_mc_model()"
   ]
  },
  {
   "cell_type": "code",
   "execution_count": 23,
   "metadata": {},
   "outputs": [
    {
     "name": "stdout",
     "output_type": "stream",
     "text": [
      "Train on 33600 samples, validate on 4200 samples\n",
      "Epoch 1/50\n",
      " - 58s - loss: 0.4350 - acc: 0.8590 - val_loss: 0.0879 - val_acc: 0.9748\n",
      "\n",
      "Epoch 00001: val_loss improved from inf to 0.08785, saving model to weights.best3.cnn_mc.digits.hdf5\n",
      "Epoch 2/50\n",
      " - 26s - loss: 0.0914 - acc: 0.9716 - val_loss: 0.0555 - val_acc: 0.9848\n",
      "\n",
      "Epoch 00002: val_loss improved from 0.08785 to 0.05547, saving model to weights.best3.cnn_mc.digits.hdf5\n",
      "Epoch 3/50\n",
      " - 27s - loss: 0.0721 - acc: 0.9773 - val_loss: 0.0473 - val_acc: 0.9874\n",
      "\n",
      "Epoch 00003: val_loss improved from 0.05547 to 0.04726, saving model to weights.best3.cnn_mc.digits.hdf5\n",
      "Epoch 4/50\n",
      " - 27s - loss: 0.0615 - acc: 0.9812 - val_loss: 0.0480 - val_acc: 0.9867\n",
      "\n",
      "Epoch 00004: val_loss did not improve from 0.04726\n",
      "Epoch 5/50\n",
      " - 27s - loss: 0.0530 - acc: 0.9837 - val_loss: 0.0396 - val_acc: 0.9883\n",
      "\n",
      "Epoch 00005: val_loss improved from 0.04726 to 0.03961, saving model to weights.best3.cnn_mc.digits.hdf5\n",
      "Epoch 6/50\n",
      " - 28s - loss: 0.0513 - acc: 0.9831 - val_loss: 0.0357 - val_acc: 0.9914\n",
      "\n",
      "Epoch 00006: val_loss improved from 0.03961 to 0.03574, saving model to weights.best3.cnn_mc.digits.hdf5\n",
      "Epoch 7/50\n",
      " - 28s - loss: 0.0460 - acc: 0.9858 - val_loss: 0.0391 - val_acc: 0.9895\n",
      "\n",
      "Epoch 00007: val_loss did not improve from 0.03574\n",
      "Epoch 8/50\n",
      " - 29s - loss: 0.0424 - acc: 0.9865 - val_loss: 0.0394 - val_acc: 0.9900\n",
      "\n",
      "Epoch 00008: val_loss did not improve from 0.03574\n",
      "Epoch 9/50\n",
      " - 32s - loss: 0.0421 - acc: 0.9865 - val_loss: 0.0364 - val_acc: 0.9876\n",
      "\n",
      "Epoch 00009: val_loss did not improve from 0.03574\n",
      "Epoch 10/50\n",
      " - 32s - loss: 0.0387 - acc: 0.9883 - val_loss: 0.0329 - val_acc: 0.9917\n",
      "\n",
      "Epoch 00010: val_loss improved from 0.03574 to 0.03289, saving model to weights.best3.cnn_mc.digits.hdf5\n",
      "Epoch 11/50\n",
      " - 34s - loss: 0.0370 - acc: 0.9881 - val_loss: 0.0377 - val_acc: 0.9893\n",
      "\n",
      "Epoch 00011: val_loss did not improve from 0.03289\n",
      "Epoch 12/50\n",
      " - 37s - loss: 0.0346 - acc: 0.9891 - val_loss: 0.0331 - val_acc: 0.9917\n",
      "\n",
      "Epoch 00012: val_loss did not improve from 0.03289\n",
      "Epoch 13/50\n",
      " - 41s - loss: 0.0340 - acc: 0.9892 - val_loss: 0.0319 - val_acc: 0.9917\n",
      "\n",
      "Epoch 00013: val_loss improved from 0.03289 to 0.03193, saving model to weights.best3.cnn_mc.digits.hdf5\n",
      "Epoch 14/50\n",
      " - 41s - loss: 0.0335 - acc: 0.9895 - val_loss: 0.0293 - val_acc: 0.9938\n",
      "\n",
      "Epoch 00014: val_loss improved from 0.03193 to 0.02933, saving model to weights.best3.cnn_mc.digits.hdf5\n",
      "Epoch 15/50\n",
      " - 41s - loss: 0.0339 - acc: 0.9890 - val_loss: 0.0393 - val_acc: 0.9895\n",
      "\n",
      "Epoch 00015: val_loss did not improve from 0.02933\n",
      "Epoch 16/50\n",
      " - 41s - loss: 0.0287 - acc: 0.9908 - val_loss: 0.0362 - val_acc: 0.9912\n",
      "\n",
      "Epoch 00016: val_loss did not improve from 0.02933\n",
      "Epoch 17/50\n",
      " - 41s - loss: 0.0300 - acc: 0.9904 - val_loss: 0.0295 - val_acc: 0.9929\n",
      "\n",
      "Epoch 00017: val_loss did not improve from 0.02933\n",
      "Epoch 18/50\n",
      " - 41s - loss: 0.0294 - acc: 0.9906 - val_loss: 0.0325 - val_acc: 0.9931\n",
      "\n",
      "Epoch 00018: val_loss did not improve from 0.02933\n",
      "Epoch 19/50\n",
      " - 42s - loss: 0.0302 - acc: 0.9907 - val_loss: 0.0300 - val_acc: 0.9936\n",
      "\n",
      "Epoch 00019: val_loss did not improve from 0.02933\n",
      "\n",
      "Epoch 00019: ReduceLROnPlateau reducing learning rate to 0.0010000000474974513.\n",
      "Epoch 20/50\n",
      " - 42s - loss: 0.0192 - acc: 0.9936 - val_loss: 0.0252 - val_acc: 0.9940\n",
      "\n",
      "Epoch 00020: val_loss improved from 0.02933 to 0.02517, saving model to weights.best3.cnn_mc.digits.hdf5\n",
      "Epoch 21/50\n",
      " - 42s - loss: 0.0136 - acc: 0.9957 - val_loss: 0.0268 - val_acc: 0.9938\n",
      "\n",
      "Epoch 00021: val_loss did not improve from 0.02517\n",
      "Epoch 22/50\n",
      " - 42s - loss: 0.0155 - acc: 0.9948 - val_loss: 0.0325 - val_acc: 0.9929\n",
      "\n",
      "Epoch 00022: val_loss did not improve from 0.02517\n",
      "Epoch 23/50\n",
      " - 42s - loss: 0.0151 - acc: 0.9951 - val_loss: 0.0273 - val_acc: 0.9924\n",
      "\n",
      "Epoch 00023: val_loss did not improve from 0.02517\n",
      "Epoch 24/50\n",
      " - 45s - loss: 0.0135 - acc: 0.9952 - val_loss: 0.0293 - val_acc: 0.9940\n",
      "\n",
      "Epoch 00024: val_loss did not improve from 0.02517\n",
      "Epoch 25/50\n",
      " - 59s - loss: 0.0164 - acc: 0.9949 - val_loss: 0.0275 - val_acc: 0.9936\n",
      "\n",
      "Epoch 00025: val_loss did not improve from 0.02517\n",
      "\n",
      "Epoch 00025: ReduceLROnPlateau reducing learning rate to 0.0005000000237487257.\n",
      "Epoch 26/50\n",
      " - 59s - loss: 0.0114 - acc: 0.9963 - val_loss: 0.0293 - val_acc: 0.9921\n",
      "\n",
      "Epoch 00026: val_loss did not improve from 0.02517\n",
      "Epoch 27/50\n",
      " - 59s - loss: 0.0094 - acc: 0.9968 - val_loss: 0.0263 - val_acc: 0.9943\n",
      "\n",
      "Epoch 00027: val_loss did not improve from 0.02517\n",
      "Epoch 28/50\n",
      " - 61s - loss: 0.0093 - acc: 0.9971 - val_loss: 0.0263 - val_acc: 0.9943\n",
      "\n",
      "Epoch 00028: val_loss did not improve from 0.02517\n",
      "Epoch 29/50\n",
      " - 60s - loss: 0.0096 - acc: 0.9972 - val_loss: 0.0321 - val_acc: 0.9938\n",
      "\n",
      "Epoch 00029: val_loss did not improve from 0.02517\n",
      "Epoch 30/50\n",
      " - 60s - loss: 0.0088 - acc: 0.9968 - val_loss: 0.0310 - val_acc: 0.9933\n",
      "\n",
      "Epoch 00030: val_loss did not improve from 0.02517\n",
      "Epoch 31/50\n",
      " - 60s - loss: 0.0103 - acc: 0.9966 - val_loss: 0.0289 - val_acc: 0.9948\n",
      "\n",
      "Epoch 00031: val_loss did not improve from 0.02517\n",
      "Epoch 32/50\n",
      " - 60s - loss: 0.0089 - acc: 0.9970 - val_loss: 0.0317 - val_acc: 0.9936\n",
      "\n",
      "Epoch 00032: val_loss did not improve from 0.02517\n",
      "Epoch 33/50\n",
      " - 59s - loss: 0.0080 - acc: 0.9971 - val_loss: 0.0279 - val_acc: 0.9948\n",
      "\n",
      "Epoch 00033: val_loss did not improve from 0.02517\n",
      "Epoch 34/50\n",
      " - 59s - loss: 0.0097 - acc: 0.9970 - val_loss: 0.0300 - val_acc: 0.9936\n",
      "\n",
      "Epoch 00034: val_loss did not improve from 0.02517\n",
      "Epoch 35/50\n",
      " - 59s - loss: 0.0063 - acc: 0.9978 - val_loss: 0.0290 - val_acc: 0.9936\n",
      "\n",
      "Epoch 00035: val_loss did not improve from 0.02517\n",
      "Epoch 36/50\n",
      " - 59s - loss: 0.0070 - acc: 0.9976 - val_loss: 0.0321 - val_acc: 0.9931\n",
      "\n",
      "Epoch 00036: val_loss did not improve from 0.02517\n",
      "\n",
      "Epoch 00036: ReduceLROnPlateau reducing learning rate to 0.0002500000118743628.\n",
      "Epoch 37/50\n",
      " - 59s - loss: 0.0074 - acc: 0.9977 - val_loss: 0.0296 - val_acc: 0.9940\n",
      "\n",
      "Epoch 00037: val_loss did not improve from 0.02517\n",
      "Epoch 38/50\n",
      " - 59s - loss: 0.0068 - acc: 0.9976 - val_loss: 0.0292 - val_acc: 0.9938\n",
      "\n",
      "Epoch 00038: val_loss did not improve from 0.02517\n",
      "Epoch 39/50\n",
      " - 59s - loss: 0.0057 - acc: 0.9980 - val_loss: 0.0280 - val_acc: 0.9948\n",
      "\n",
      "Epoch 00039: val_loss did not improve from 0.02517\n",
      "Epoch 40/50\n",
      " - 59s - loss: 0.0060 - acc: 0.9980 - val_loss: 0.0306 - val_acc: 0.9933\n",
      "\n",
      "Epoch 00040: val_loss did not improve from 0.02517\n",
      "Epoch 41/50\n",
      " - 59s - loss: 0.0067 - acc: 0.9979 - val_loss: 0.0270 - val_acc: 0.9948\n",
      "\n",
      "Epoch 00041: val_loss did not improve from 0.02517\n",
      "\n",
      "Epoch 00041: ReduceLROnPlateau reducing learning rate to 0.0001250000059371814.\n",
      "Epoch 42/50\n",
      " - 59s - loss: 0.0059 - acc: 0.9979 - val_loss: 0.0278 - val_acc: 0.9943\n",
      "\n",
      "Epoch 00042: val_loss did not improve from 0.02517\n",
      "Epoch 43/50\n",
      " - 59s - loss: 0.0044 - acc: 0.9985 - val_loss: 0.0294 - val_acc: 0.9940\n",
      "\n",
      "Epoch 00043: val_loss did not improve from 0.02517\n",
      "Epoch 44/50\n",
      " - 59s - loss: 0.0056 - acc: 0.9982 - val_loss: 0.0295 - val_acc: 0.9940\n",
      "\n",
      "Epoch 00044: val_loss did not improve from 0.02517\n",
      "Epoch 45/50\n",
      " - 59s - loss: 0.0044 - acc: 0.9984 - val_loss: 0.0322 - val_acc: 0.9938\n",
      "\n",
      "Epoch 00045: val_loss did not improve from 0.02517\n",
      "Epoch 46/50\n",
      " - 59s - loss: 0.0043 - acc: 0.9986 - val_loss: 0.0307 - val_acc: 0.9943\n",
      "\n",
      "Epoch 00046: val_loss did not improve from 0.02517\n",
      "\n",
      "Epoch 00046: ReduceLROnPlateau reducing learning rate to 6.25000029685907e-05.\n",
      "Epoch 47/50\n",
      " - 59s - loss: 0.0046 - acc: 0.9984 - val_loss: 0.0298 - val_acc: 0.9940\n",
      "\n",
      "Epoch 00047: val_loss did not improve from 0.02517\n",
      "Epoch 48/50\n",
      " - 59s - loss: 0.0034 - acc: 0.9987 - val_loss: 0.0290 - val_acc: 0.9940\n",
      "\n",
      "Epoch 00048: val_loss did not improve from 0.02517\n",
      "Epoch 49/50\n",
      " - 59s - loss: 0.0039 - acc: 0.9988 - val_loss: 0.0291 - val_acc: 0.9945\n",
      "\n",
      "Epoch 00049: val_loss did not improve from 0.02517\n",
      "Epoch 50/50\n",
      " - 59s - loss: 0.0043 - acc: 0.9984 - val_loss: 0.0285 - val_acc: 0.9945\n",
      "\n",
      "Epoch 00050: val_loss did not improve from 0.02517\n"
     ]
    }
   ],
   "source": [
    "cnn_checkpointer = ModelCheckpoint(filepath='weights.best3.cnn_mc.digits.hdf5', \n",
    "                                   verbose=2, save_best_only=True)\n",
    "cnn_lr_reduction = ReduceLROnPlateau(monitor='val_acc', \n",
    "                                     patience=5, verbose=2, \n",
    "                                     factor=0.5, min_lr=0.000001)\n",
    "\n",
    "fit_cnn = cnn_mc_model.fit(X_train.reshape(-1, 28, 28, 1), y_train, \n",
    "                           validation_data=(X_valid.reshape(-1, 28, 28, 1), y_valid), \n",
    "                           epochs=50, batch_size=128, verbose=2, \n",
    "                           callbacks=[cnn_checkpointer, cnn_lr_reduction])"
   ]
  },
  {
   "cell_type": "code",
   "execution_count": 24,
   "metadata": {},
   "outputs": [
    {
     "data": {
      "image/png": "[encoded data removed]",
      "text/plain": [
       "<Figure size 1296x432 with 1 Axes>"
      ]
     },
     "metadata": {
      "needs_background": "light"
     },
     "output_type": "display_data"
    }
   ],
   "source": [
    "plt.figure(figsize=(18, 6))\n",
    "plt.plot(fit_cnn.history['loss'][2:], '-o', c='#37c9e1', lw=1, label = 'train')\n",
    "plt.plot(fit_cnn.history['val_loss'][2:], '-o', c='#39d4be', lw=1, label = 'test')\n",
    "plt.legend()\n",
    "plt.xlabel('Epochs')\n",
    "plt.ylabel('Loss')\n",
    "plt.title('CNN Loss Function');"
   ]
  },
  {
   "cell_type": "code",
   "execution_count": 25,
   "metadata": {},
   "outputs": [
    {
     "name": "stdout",
     "output_type": "stream",
     "text": [
      "CNN Scores:  [0.02090995236031068, 0.9935714285714285]\n",
      "CNN Error: 0.64%\n",
      "_________________________________________________________________\n",
      "Layer (type)                 Output Shape              Param #   \n",
      "=================================================================\n",
      "input_1 (InputLayer)         (None, 28, 28, 1)         0         \n",
      "_________________________________________________________________\n",
      "batch_normalization_1 (Batch (None, 28, 28, 1)         4         \n",
      "_________________________________________________________________\n",
      "conv2d_1 (Conv2D)            (None, 28, 28, 28)        728       \n",
      "_________________________________________________________________\n",
      "leaky_re_lu_1 (LeakyReLU)    (None, 28, 28, 28)        0         \n",
      "_________________________________________________________________\n",
      "max_pooling2d_1 (MaxPooling2 (None, 14, 14, 28)        0         \n",
      "_________________________________________________________________\n",
      "dropout_1 (Dropout)          (None, 14, 14, 28)        0         \n",
      "_________________________________________________________________\n",
      "conv2d_2 (Conv2D)            (None, 10, 10, 128)       89728     \n",
      "_________________________________________________________________\n",
      "leaky_re_lu_2 (LeakyReLU)    (None, 10, 10, 128)       0         \n",
      "_________________________________________________________________\n",
      "max_pooling2d_2 (MaxPooling2 (None, 5, 5, 128)         0         \n",
      "_________________________________________________________________\n",
      "dropout_2 (Dropout)          (None, 5, 5, 128)         0         \n",
      "_________________________________________________________________\n",
      "global_max_pooling2d_1 (Glob (None, 128)               0         \n",
      "_________________________________________________________________\n",
      "dense_1 (Dense)              (None, 1024)              132096    \n",
      "_________________________________________________________________\n",
      "leaky_re_lu_3 (LeakyReLU)    (None, 1024)              0         \n",
      "_________________________________________________________________\n",
      "dropout_3 (Dropout)          (None, 1024)              0         \n",
      "_________________________________________________________________\n",
      "dense_2 (Dense)              (None, 10)                10250     \n",
      "=================================================================\n",
      "Total params: 232,806\n",
      "Trainable params: 232,804\n",
      "Non-trainable params: 2\n",
      "_________________________________________________________________\n",
      "None\n"
     ]
    }
   ],
   "source": [
    "cnn_mc_model.load_weights('weights.best3.cnn_mc.digits.hdf5')\n",
    "cnn_scores = cnn_mc_model.evaluate(X_test.reshape(-1, 28, 28, 1), y_test, verbose=0)\n",
    "\n",
    "print(\"CNN Scores: \" , (cnn_scores))\n",
    "print(\"CNN Error: %.2f%%\" % (100 - cnn_scores[1]*100))\n",
    "print(cnn_mc_model.summary())"
   ]
  },
  {
   "cell_type": "code",
   "execution_count": 26,
   "metadata": {},
   "outputs": [
    {
     "name": "stdout",
     "output_type": "stream",
     "text": [
      "Epoch 1/50\n",
      " - 103s - loss: 0.1688 - acc: 0.9474 - val_loss: 0.0274 - val_acc: 0.9943\n",
      "\n",
      "Epoch 00001: val_loss did not improve from 0.02517\n",
      "Epoch 2/50\n",
      " - 146s - loss: 0.1335 - acc: 0.9580 - val_loss: 0.0277 - val_acc: 0.9945\n",
      "\n",
      "Epoch 00002: val_loss did not improve from 0.02517\n",
      "Epoch 3/50\n",
      " - 194s - loss: 0.1225 - acc: 0.9618 - val_loss: 0.0284 - val_acc: 0.9936\n",
      "\n",
      "Epoch 00003: val_loss did not improve from 0.02517\n",
      "Epoch 4/50\n",
      " - 223s - loss: 0.1124 - acc: 0.9646 - val_loss: 0.0282 - val_acc: 0.9931\n",
      "\n",
      "Epoch 00004: val_loss did not improve from 0.02517\n",
      "Epoch 5/50\n",
      " - 222s - loss: 0.1058 - acc: 0.9661 - val_loss: 0.0287 - val_acc: 0.9933\n",
      "\n",
      "Epoch 00005: val_loss did not improve from 0.02517\n",
      "Epoch 6/50\n",
      " - 223s - loss: 0.1025 - acc: 0.9676 - val_loss: 0.0279 - val_acc: 0.9933\n",
      "\n",
      "Epoch 00006: val_loss did not improve from 0.02517\n",
      "Epoch 7/50\n",
      " - 224s - loss: 0.0953 - acc: 0.9695 - val_loss: 0.0271 - val_acc: 0.9938\n",
      "\n",
      "Epoch 00007: val_loss did not improve from 0.02517\n",
      "\n",
      "Epoch 00007: ReduceLROnPlateau reducing learning rate to 3.125000148429535e-05.\n",
      "Epoch 8/50\n",
      " - 222s - loss: 0.0913 - acc: 0.9712 - val_loss: 0.0272 - val_acc: 0.9933\n",
      "\n",
      "Epoch 00008: val_loss did not improve from 0.02517\n",
      "Epoch 9/50\n",
      " - 222s - loss: 0.0908 - acc: 0.9707 - val_loss: 0.0272 - val_acc: 0.9933\n",
      "\n",
      "Epoch 00009: val_loss did not improve from 0.02517\n",
      "Epoch 10/50\n",
      " - 222s - loss: 0.0911 - acc: 0.9715 - val_loss: 0.0274 - val_acc: 0.9933\n",
      "\n",
      "Epoch 00010: val_loss did not improve from 0.02517\n",
      "Epoch 11/50\n",
      " - 220s - loss: 0.0882 - acc: 0.9722 - val_loss: 0.0274 - val_acc: 0.9936\n",
      "\n",
      "Epoch 00011: val_loss did not improve from 0.02517\n",
      "Epoch 12/50\n",
      " - 220s - loss: 0.0870 - acc: 0.9722 - val_loss: 0.0275 - val_acc: 0.9938\n",
      "\n",
      "Epoch 00012: val_loss did not improve from 0.02517\n",
      "\n",
      "Epoch 00012: ReduceLROnPlateau reducing learning rate to 1.5625000742147677e-05.\n",
      "Epoch 13/50\n",
      " - 221s - loss: 0.0852 - acc: 0.9732 - val_loss: 0.0271 - val_acc: 0.9938\n",
      "\n",
      "Epoch 00013: val_loss did not improve from 0.02517\n",
      "Epoch 14/50\n",
      " - 220s - loss: 0.0859 - acc: 0.9728 - val_loss: 0.0271 - val_acc: 0.9936\n",
      "\n",
      "Epoch 00014: val_loss did not improve from 0.02517\n",
      "Epoch 15/50\n",
      " - 221s - loss: 0.0835 - acc: 0.9735 - val_loss: 0.0271 - val_acc: 0.9936\n",
      "\n",
      "Epoch 00015: val_loss did not improve from 0.02517\n",
      "Epoch 16/50\n",
      " - 219s - loss: 0.0844 - acc: 0.9733 - val_loss: 0.0268 - val_acc: 0.9938\n",
      "\n",
      "Epoch 00016: val_loss did not improve from 0.02517\n",
      "Epoch 17/50\n",
      " - 220s - loss: 0.0843 - acc: 0.9734 - val_loss: 0.0268 - val_acc: 0.9936\n",
      "\n",
      "Epoch 00017: val_loss did not improve from 0.02517\n",
      "\n",
      "Epoch 00017: ReduceLROnPlateau reducing learning rate to 7.812500371073838e-06.\n",
      "Epoch 18/50\n",
      " - 221s - loss: 0.0817 - acc: 0.9746 - val_loss: 0.0270 - val_acc: 0.9933\n",
      "\n",
      "Epoch 00018: val_loss did not improve from 0.02517\n",
      "Epoch 19/50\n",
      " - 219s - loss: 0.0827 - acc: 0.9744 - val_loss: 0.0268 - val_acc: 0.9936\n",
      "\n",
      "Epoch 00019: val_loss did not improve from 0.02517\n",
      "Epoch 20/50\n",
      " - 220s - loss: 0.0830 - acc: 0.9742 - val_loss: 0.0268 - val_acc: 0.9936\n",
      "\n",
      "Epoch 00020: val_loss did not improve from 0.02517\n",
      "Epoch 21/50\n",
      " - 220s - loss: 0.0824 - acc: 0.9736 - val_loss: 0.0266 - val_acc: 0.9933\n",
      "\n",
      "Epoch 00021: val_loss did not improve from 0.02517\n",
      "Epoch 22/50\n",
      " - 220s - loss: 0.0810 - acc: 0.9744 - val_loss: 0.0266 - val_acc: 0.9936\n",
      "\n",
      "Epoch 00022: val_loss did not improve from 0.02517\n",
      "\n",
      "Epoch 00022: ReduceLROnPlateau reducing learning rate to 3.906250185536919e-06.\n",
      "Epoch 23/50\n",
      " - 195s - loss: 0.0793 - acc: 0.9750 - val_loss: 0.0265 - val_acc: 0.9936\n",
      "\n",
      "Epoch 00023: val_loss did not improve from 0.02517\n",
      "Epoch 24/50\n",
      " - 154s - loss: 0.0806 - acc: 0.9744 - val_loss: 0.0266 - val_acc: 0.9936\n",
      "\n",
      "Epoch 00024: val_loss did not improve from 0.02517\n",
      "Epoch 25/50\n",
      " - 157s - loss: 0.0798 - acc: 0.9749 - val_loss: 0.0267 - val_acc: 0.9936\n",
      "\n",
      "Epoch 00025: val_loss did not improve from 0.02517\n",
      "Epoch 26/50\n",
      " - 157s - loss: 0.0818 - acc: 0.9733 - val_loss: 0.0266 - val_acc: 0.9936\n",
      "\n",
      "Epoch 00026: val_loss did not improve from 0.02517\n",
      "Epoch 27/50\n",
      " - 155s - loss: 0.0828 - acc: 0.9737 - val_loss: 0.0265 - val_acc: 0.9936\n",
      "\n",
      "Epoch 00027: val_loss did not improve from 0.02517\n",
      "\n",
      "Epoch 00027: ReduceLROnPlateau reducing learning rate to 1.9531250927684596e-06.\n",
      "Epoch 28/50\n",
      " - 155s - loss: 0.0832 - acc: 0.9743 - val_loss: 0.0266 - val_acc: 0.9936\n",
      "\n",
      "Epoch 00028: val_loss did not improve from 0.02517\n",
      "Epoch 29/50\n",
      " - 155s - loss: 0.0798 - acc: 0.9747 - val_loss: 0.0266 - val_acc: 0.9936\n",
      "\n",
      "Epoch 00029: val_loss did not improve from 0.02517\n",
      "Epoch 30/50\n",
      " - 154s - loss: 0.0801 - acc: 0.9744 - val_loss: 0.0266 - val_acc: 0.9936\n",
      "\n",
      "Epoch 00030: val_loss did not improve from 0.02517\n",
      "Epoch 31/50\n",
      " - 154s - loss: 0.0803 - acc: 0.9745 - val_loss: 0.0265 - val_acc: 0.9936\n",
      "\n",
      "Epoch 00031: val_loss did not improve from 0.02517\n",
      "Epoch 32/50\n",
      " - 155s - loss: 0.0796 - acc: 0.9752 - val_loss: 0.0266 - val_acc: 0.9936\n",
      "\n",
      "Epoch 00032: val_loss did not improve from 0.02517\n",
      "\n",
      "Epoch 00032: ReduceLROnPlateau reducing learning rate to 1e-06.\n",
      "Epoch 33/50\n",
      " - 154s - loss: 0.0808 - acc: 0.9740 - val_loss: 0.0266 - val_acc: 0.9936\n",
      "\n",
      "Epoch 00033: val_loss did not improve from 0.02517\n",
      "Epoch 34/50\n",
      " - 155s - loss: 0.0803 - acc: 0.9747 - val_loss: 0.0266 - val_acc: 0.9936\n",
      "\n",
      "Epoch 00034: val_loss did not improve from 0.02517\n",
      "Epoch 35/50\n",
      " - 154s - loss: 0.0821 - acc: 0.9737 - val_loss: 0.0266 - val_acc: 0.9936\n",
      "\n",
      "Epoch 00035: val_loss did not improve from 0.02517\n",
      "Epoch 36/50\n",
      " - 154s - loss: 0.0801 - acc: 0.9749 - val_loss: 0.0266 - val_acc: 0.9936\n",
      "\n",
      "Epoch 00036: val_loss did not improve from 0.02517\n",
      "Epoch 37/50\n",
      " - 154s - loss: 0.0811 - acc: 0.9742 - val_loss: 0.0266 - val_acc: 0.9936\n",
      "\n",
      "Epoch 00037: val_loss did not improve from 0.02517\n",
      "Epoch 38/50\n",
      " - 155s - loss: 0.0814 - acc: 0.9742 - val_loss: 0.0265 - val_acc: 0.9936\n",
      "\n",
      "Epoch 00038: val_loss did not improve from 0.02517\n",
      "Epoch 39/50\n",
      " - 156s - loss: 0.0799 - acc: 0.9750 - val_loss: 0.0266 - val_acc: 0.9936\n",
      "\n",
      "Epoch 00039: val_loss did not improve from 0.02517\n",
      "Epoch 40/50\n",
      " - 157s - loss: 0.0803 - acc: 0.9745 - val_loss: 0.0265 - val_acc: 0.9936\n",
      "\n",
      "Epoch 00040: val_loss did not improve from 0.02517\n",
      "Epoch 41/50\n",
      " - 155s - loss: 0.0794 - acc: 0.9749 - val_loss: 0.0265 - val_acc: 0.9936\n",
      "\n",
      "Epoch 00041: val_loss did not improve from 0.02517\n",
      "Epoch 42/50\n",
      " - 155s - loss: 0.0786 - acc: 0.9748 - val_loss: 0.0265 - val_acc: 0.9936\n",
      "\n",
      "Epoch 00042: val_loss did not improve from 0.02517\n",
      "Epoch 43/50\n",
      " - 184s - loss: 0.0797 - acc: 0.9748 - val_loss: 0.0265 - val_acc: 0.9936\n",
      "\n",
      "Epoch 00043: val_loss did not improve from 0.02517\n",
      "Epoch 44/50\n",
      " - 220s - loss: 0.0789 - acc: 0.9752 - val_loss: 0.0265 - val_acc: 0.9936\n",
      "\n",
      "Epoch 00044: val_loss did not improve from 0.02517\n",
      "Epoch 45/50\n",
      " - 220s - loss: 0.0809 - acc: 0.9745 - val_loss: 0.0265 - val_acc: 0.9936\n",
      "\n",
      "Epoch 00045: val_loss did not improve from 0.02517\n",
      "Epoch 46/50\n",
      " - 220s - loss: 0.0784 - acc: 0.9748 - val_loss: 0.0265 - val_acc: 0.9936\n",
      "\n",
      "Epoch 00046: val_loss did not improve from 0.02517\n",
      "Epoch 47/50\n",
      " - 219s - loss: 0.0797 - acc: 0.9745 - val_loss: 0.0265 - val_acc: 0.9936\n",
      "\n",
      "Epoch 00047: val_loss did not improve from 0.02517\n",
      "Epoch 48/50\n",
      " - 221s - loss: 0.0803 - acc: 0.9743 - val_loss: 0.0264 - val_acc: 0.9936\n",
      "\n",
      "Epoch 00048: val_loss did not improve from 0.02517\n",
      "Epoch 49/50\n",
      " - 221s - loss: 0.0803 - acc: 0.9745 - val_loss: 0.0265 - val_acc: 0.9936\n",
      "\n",
      "Epoch 00049: val_loss did not improve from 0.02517\n",
      "Epoch 50/50\n",
      " - 221s - loss: 0.0796 - acc: 0.9751 - val_loss: 0.0264 - val_acc: 0.9936\n",
      "\n",
      "Epoch 00050: val_loss did not improve from 0.02517\n"
     ]
    }
   ],
   "source": [
    "data_generator = ImageDataGenerator(zoom_range=0.2, \n",
    "                                    shear_range=0.2, \n",
    "                                    rotation_range=20,\n",
    "                                    width_shift_range=0.2,\n",
    "                                    height_shift_range=0.2)\n",
    "\n",
    "fit_dg_cnn = cnn_mc_model.fit_generator(data_generator.flow(X_train.reshape(-1, 28, 28, 1), \n",
    "                                                            y_train, \n",
    "                                                            batch_size=128),\n",
    "                                        steps_per_epoch = 1000, epochs = 50, verbose=2,\n",
    "                                        validation_data = (X_valid.reshape(-1, 28, 28, 1), y_valid), \n",
    "                                        callbacks=[cnn_checkpointer, cnn_lr_reduction])"
   ]
  },
  {
   "cell_type": "code",
   "execution_count": 27,
   "metadata": {},
   "outputs": [
    {
     "data": {
      "image/png": "[encoded data removed]",
      "text/plain": [
       "<Figure size 1296x432 with 1 Axes>"
      ]
     },
     "metadata": {
      "needs_background": "light"
     },
     "output_type": "display_data"
    }
   ],
   "source": [
    "plt.figure(figsize=(18, 6))\n",
    "plt.plot(fit_dg_cnn.history['loss'][2:], '-o', c='#37c9e1', lw=1, label = 'train')\n",
    "plt.plot(fit_dg_cnn.history['val_loss'][2:], '-o', c='#fc3c1c', lw=1, label = 'test')\n",
    "plt.legend()\n",
    "plt.xlabel('Epochs')\n",
    "plt.ylabel('Loss')\n",
    "plt.title('CNN with Data Generator; Loss Function');"
   ]
  },
  {
   "cell_type": "code",
   "execution_count": 28,
   "metadata": {},
   "outputs": [
    {
     "name": "stdout",
     "output_type": "stream",
     "text": [
      "CNN with Data Generator; Scores:  [0.02090995236031068, 0.9935714285714285]\n",
      "CNN with Data Generator; Error: 0.64%\n"
     ]
    }
   ],
   "source": [
    "cnn_mc_model.load_weights('weights.best3.cnn_mc.digits.hdf5')\n",
    "cnn_scores = cnn_mc_model.evaluate(X_test.reshape(-1, 28, 28, 1), y_test, verbose=0)\n",
    "\n",
    "print(\"CNN with Data Generator; Scores: \" , (cnn_scores))\n",
    "print(\"CNN with Data Generator; Error: %.2f%%\" % (100 - cnn_scores[1]*100))"
   ]
  },
  {
   "cell_type": "code",
   "execution_count": 29,
   "metadata": {},
   "outputs": [],
   "source": [
    "cnn_mc_model.save('kaggle_digits_cnn_mc_model3.h5')"
   ]
  },
  {
   "cell_type": "code",
   "execution_count": 30,
   "metadata": {},
   "outputs": [],
   "source": [
    "#MLP\n",
    "\n",
    "def mlp_mc_model():\n",
    "    model = Sequential()\n",
    "\n",
    "    model.add(Dense(1568, activation='relu', input_shape = X_train.shape[1:]))\n",
    "    model.add(Dropout(0.2))\n",
    "    \n",
    "    model.add(Dense(392, activation='relu'))\n",
    "    model.add(Dropout(0.2))\n",
    "    \n",
    "    model.add(Dense(128, activation='relu'))\n",
    "    model.add(Dropout(0.2))\n",
    "    \n",
    "    model.add(Dense(10, activation='softmax'))\n",
    "\n",
    "    model.compile(optimizer='nadam', loss='categorical_crossentropy', metrics=['accuracy'])\n",
    "    return model\n",
    "\n",
    "mlp_mc_model = mlp_mc_model()"
   ]
  },
  {
   "cell_type": "code",
   "execution_count": 31,
   "metadata": {},
   "outputs": [
    {
     "name": "stdout",
     "output_type": "stream",
     "text": [
      "Train on 33600 samples, validate on 4200 samples\n",
      "Epoch 1/15\n",
      " - 26s - loss: 0.3132 - acc: 0.9011 - val_loss: 0.1475 - val_acc: 0.9562\n",
      "\n",
      "Epoch 00001: val_loss improved from inf to 0.14750, saving model to weights.best.mlp_mc.digits.hdf5\n",
      "Epoch 2/15\n",
      " - 24s - loss: 0.1289 - acc: 0.9606 - val_loss: 0.1353 - val_acc: 0.9574\n",
      "\n",
      "Epoch 00002: val_loss improved from 0.14750 to 0.13532, saving model to weights.best.mlp_mc.digits.hdf5\n",
      "Epoch 3/15\n",
      " - 24s - loss: 0.0919 - acc: 0.9717 - val_loss: 0.1102 - val_acc: 0.9655\n",
      "\n",
      "Epoch 00003: val_loss improved from 0.13532 to 0.11025, saving model to weights.best.mlp_mc.digits.hdf5\n",
      "Epoch 4/15\n",
      " - 24s - loss: 0.0767 - acc: 0.9771 - val_loss: 0.1037 - val_acc: 0.9738\n",
      "\n",
      "Epoch 00004: val_loss improved from 0.11025 to 0.10368, saving model to weights.best.mlp_mc.digits.hdf5\n",
      "Epoch 5/15\n",
      " - 24s - loss: 0.0620 - acc: 0.9807 - val_loss: 0.1361 - val_acc: 0.9693\n",
      "\n",
      "Epoch 00005: val_loss did not improve from 0.10368\n",
      "Epoch 6/15\n",
      " - 24s - loss: 0.0565 - acc: 0.9824 - val_loss: 0.1111 - val_acc: 0.9731\n",
      "\n",
      "Epoch 00006: val_loss did not improve from 0.10368\n",
      "Epoch 7/15\n",
      " - 24s - loss: 0.0501 - acc: 0.9843 - val_loss: 0.0949 - val_acc: 0.9736\n",
      "\n",
      "Epoch 00007: val_loss improved from 0.10368 to 0.09485, saving model to weights.best.mlp_mc.digits.hdf5\n",
      "Epoch 8/15\n",
      " - 25s - loss: 0.0419 - acc: 0.9871 - val_loss: 0.1240 - val_acc: 0.9714\n",
      "\n",
      "Epoch 00008: val_loss did not improve from 0.09485\n",
      "Epoch 9/15\n",
      " - 24s - loss: 0.0376 - acc: 0.9887 - val_loss: 0.1059 - val_acc: 0.9760\n",
      "\n",
      "Epoch 00009: val_loss did not improve from 0.09485\n",
      "Epoch 10/15\n",
      " - 25s - loss: 0.0393 - acc: 0.9876 - val_loss: 0.1130 - val_acc: 0.9750\n",
      "\n",
      "Epoch 00010: val_loss did not improve from 0.09485\n",
      "Epoch 11/15\n",
      " - 24s - loss: 0.0358 - acc: 0.9887 - val_loss: 0.1256 - val_acc: 0.9729\n",
      "\n",
      "Epoch 00011: val_loss did not improve from 0.09485\n",
      "Epoch 12/15\n",
      " - 24s - loss: 0.0402 - acc: 0.9877 - val_loss: 0.1137 - val_acc: 0.9752\n",
      "\n",
      "Epoch 00012: val_loss did not improve from 0.09485\n",
      "Epoch 13/15\n",
      " - 24s - loss: 0.0338 - acc: 0.9894 - val_loss: 0.1077 - val_acc: 0.9764\n",
      "\n",
      "Epoch 00013: val_loss did not improve from 0.09485\n",
      "Epoch 14/15\n",
      " - 24s - loss: 0.0287 - acc: 0.9917 - val_loss: 0.1117 - val_acc: 0.9790\n",
      "\n",
      "Epoch 00014: val_loss did not improve from 0.09485\n",
      "Epoch 15/15\n",
      " - 25s - loss: 0.0229 - acc: 0.9928 - val_loss: 0.1224 - val_acc: 0.9771\n",
      "\n",
      "Epoch 00015: val_loss did not improve from 0.09485\n"
     ]
    }
   ],
   "source": [
    "mlp_checkpointer = ModelCheckpoint(filepath='weights.best.mlp_mc.digits.hdf5', \n",
    "                                   verbose=2, save_best_only=True)\n",
    "fit_mlp = mlp_mc_model.fit(X_train, y_train, validation_data=(X_valid, y_valid), \n",
    "                           epochs=15, batch_size=128, verbose=2, callbacks=[mlp_checkpointer]);"
   ]
  },
  {
   "cell_type": "code",
   "execution_count": 32,
   "metadata": {},
   "outputs": [
    {
     "data": {
      "image/png": "[encoded data removed]",
      "text/plain": [
       "<Figure size 1296x360 with 1 Axes>"
      ]
     },
     "metadata": {
      "needs_background": "light"
     },
     "output_type": "display_data"
    }
   ],
   "source": [
    "plt.figure(figsize=(18,5))\n",
    "plt.plot(fit_mlp.history['acc'][2:], '-o', c='#37c9e1', lw=1, label = 'train')\n",
    "plt.plot(fit_mlp.history['val_acc'][2:], '-o', c='#fc3c1c', lw=1, label = 'test')\n",
    "plt.legend()\n",
    "plt.xlabel('Epochs')\n",
    "plt.ylabel('Accuracy')\n",
    "plt.title('MLP Accuracy');"
   ]
  },
  {
   "cell_type": "code",
   "execution_count": 33,
   "metadata": {},
   "outputs": [
    {
     "name": "stdout",
     "output_type": "stream",
     "text": [
      "4200/4200 [==============================] - 1s 208us/step\n",
      "\n",
      "MLP Scores:  [0.07979840929162622, 0.9802380952380952]\n",
      "MLP Error: 1.98%\n",
      "_________________________________________________________________\n",
      "Layer (type)                 Output Shape              Param #   \n",
      "=================================================================\n",
      "dense_3 (Dense)              (None, 1568)              1230880   \n",
      "_________________________________________________________________\n",
      "dropout_4 (Dropout)          (None, 1568)              0         \n",
      "_________________________________________________________________\n",
      "dense_4 (Dense)              (None, 392)               615048    \n",
      "_________________________________________________________________\n",
      "dropout_5 (Dropout)          (None, 392)               0         \n",
      "_________________________________________________________________\n",
      "dense_5 (Dense)              (None, 128)               50304     \n",
      "_________________________________________________________________\n",
      "dropout_6 (Dropout)          (None, 128)               0         \n",
      "_________________________________________________________________\n",
      "dense_6 (Dense)              (None, 10)                1290      \n",
      "=================================================================\n",
      "Total params: 1,897,522\n",
      "Trainable params: 1,897,522\n",
      "Non-trainable params: 0\n",
      "_________________________________________________________________\n",
      "None\n"
     ]
    }
   ],
   "source": [
    "mlp_mc_model.load_weights('weights.best.mlp_mc.digits.hdf5')\n",
    "mlp_scores = mlp_mc_model.evaluate(X_test, y_test)\n",
    "\n",
    "print(\"\\nMLP Scores: \", (mlp_scores))\n",
    "print(\"MLP Error: %.2f%%\" % (100 - mlp_scores[1] * 100))\n",
    "print(mlp_mc_model.summary())"
   ]
  },
  {
   "cell_type": "code",
   "execution_count": 34,
   "metadata": {},
   "outputs": [],
   "source": [
    "mlp_mc_model.save('kaggle_digits_mlp_mc_model.h5')"
   ]
  },
  {
   "cell_type": "code",
   "execution_count": 35,
   "metadata": {},
   "outputs": [],
   "source": [
    "#RNN\n",
    "\n",
    "def rnn_mc_model():\n",
    "    model = Sequential()\n",
    "\n",
    "    model.add(LSTM(196, return_sequences=True, input_shape=(1, 784)))    \n",
    "    model.add(LSTM(196, return_sequences=True))\n",
    "    \n",
    "    model.add(LSTM(784))  \n",
    "    \n",
    "    model.add(Dense(10, activation='softmax'))\n",
    "\n",
    "    model.compile(loss='categorical_crossentropy', optimizer='nadam', metrics=['accuracy'])    \n",
    "    return model"
   ]
  },
  {
   "cell_type": "code",
   "execution_count": 36,
   "metadata": {},
   "outputs": [
    {
     "name": "stdout",
     "output_type": "stream",
     "text": [
      "Train on 33600 samples, validate on 4200 samples\n",
      "Epoch 1/10\n",
      " - 77s - loss: 0.3547 - acc: 0.8920 - val_loss: 0.1906 - val_acc: 0.9398\n",
      "\n",
      "Epoch 00001: val_loss improved from inf to 0.19063, saving model to weights.best.rnn_mc.digits.hdf5\n",
      "Epoch 2/10\n",
      " - 68s - loss: 0.1188 - acc: 0.9629 - val_loss: 0.1196 - val_acc: 0.9590\n",
      "\n",
      "Epoch 00002: val_loss improved from 0.19063 to 0.11963, saving model to weights.best.rnn_mc.digits.hdf5\n",
      "Epoch 3/10\n",
      " - 68s - loss: 0.0736 - acc: 0.9766 - val_loss: 0.1379 - val_acc: 0.9590\n",
      "\n",
      "Epoch 00003: val_loss did not improve from 0.11963\n",
      "Epoch 4/10\n",
      " - 68s - loss: 0.0521 - acc: 0.9831 - val_loss: 0.0994 - val_acc: 0.9712\n",
      "\n",
      "Epoch 00004: val_loss improved from 0.11963 to 0.09942, saving model to weights.best.rnn_mc.digits.hdf5\n",
      "Epoch 5/10\n",
      " - 68s - loss: 0.0366 - acc: 0.9880 - val_loss: 0.0990 - val_acc: 0.9721\n",
      "\n",
      "Epoch 00005: val_loss improved from 0.09942 to 0.09896, saving model to weights.best.rnn_mc.digits.hdf5\n",
      "Epoch 6/10\n",
      " - 68s - loss: 0.0281 - acc: 0.9908 - val_loss: 0.1209 - val_acc: 0.9690\n",
      "\n",
      "Epoch 00006: val_loss did not improve from 0.09896\n",
      "Epoch 7/10\n",
      " - 68s - loss: 0.0242 - acc: 0.9921 - val_loss: 0.1125 - val_acc: 0.9740\n",
      "\n",
      "Epoch 00007: val_loss did not improve from 0.09896\n",
      "Epoch 8/10\n",
      " - 68s - loss: 0.0220 - acc: 0.9932 - val_loss: 0.1192 - val_acc: 0.9707\n",
      "\n",
      "Epoch 00008: val_loss did not improve from 0.09896\n",
      "Epoch 9/10\n",
      " - 68s - loss: 0.0179 - acc: 0.9936 - val_loss: 0.1263 - val_acc: 0.9729\n",
      "\n",
      "Epoch 00009: val_loss did not improve from 0.09896\n",
      "Epoch 10/10\n",
      " - 68s - loss: 0.0132 - acc: 0.9956 - val_loss: 0.1621 - val_acc: 0.9669\n",
      "\n",
      "Epoch 00010: val_loss did not improve from 0.09896\n"
     ]
    }
   ],
   "source": [
    "rnn_mc_model = rnn_mc_model()\n",
    "rnn_checkpointer = ModelCheckpoint(filepath='weights.best.rnn_mc.digits.hdf5', \n",
    "                                   verbose=2, save_best_only=True)\n",
    "fit_rnn = rnn_mc_model.fit(X_train.reshape(X_train.shape[0], 1, X_train.shape[1]), y_train, \n",
    "                           epochs=10, batch_size=128, verbose=2, callbacks=[rnn_checkpointer],\n",
    "                           validation_data=(X_valid.reshape(X_valid.shape[0], 1, X_valid.shape[1]), y_valid))"
   ]
  },
  {
   "cell_type": "code",
   "execution_count": 37,
   "metadata": {},
   "outputs": [
    {
     "data": {
      "image/png": "[encoded data removed]",
      "text/plain": [
       "<Figure size 1296x360 with 1 Axes>"
      ]
     },
     "metadata": {
      "needs_background": "light"
     },
     "output_type": "display_data"
    }
   ],
   "source": [
    "plt.figure(figsize=(18,5))\n",
    "plt.plot(fit_rnn.history['acc'][2:], '-o', c='#37c9e1', lw=1, label = 'train')\n",
    "plt.plot(fit_rnn.history['val_acc'][2:], '-o', c='#fc3c1c', lw=1, label = 'test')\n",
    "plt.legend()\n",
    "plt.xlabel('Epochs')\n",
    "plt.ylabel('Accuracy')\n",
    "plt.title('RNN Accuracy');"
   ]
  },
  {
   "cell_type": "code",
   "execution_count": 38,
   "metadata": {},
   "outputs": [
    {
     "name": "stdout",
     "output_type": "stream",
     "text": [
      "4200/4200 [==============================] - 2s 401us/step\n",
      "\n",
      "RNN Scores:  [0.08174537899482641, 0.9759523809523809]\n",
      "RNN Error: 2.40%\n",
      "_________________________________________________________________\n",
      "Layer (type)                 Output Shape              Param #   \n",
      "=================================================================\n",
      "lstm_1 (LSTM)                (None, 1, 196)            769104    \n",
      "_________________________________________________________________\n",
      "lstm_2 (LSTM)                (None, 1, 196)            308112    \n",
      "_________________________________________________________________\n",
      "lstm_3 (LSTM)                (None, 784)               3076416   \n",
      "_________________________________________________________________\n",
      "dense_7 (Dense)              (None, 10)                7850      \n",
      "=================================================================\n",
      "Total params: 4,161,482\n",
      "Trainable params: 4,161,482\n",
      "Non-trainable params: 0\n",
      "_________________________________________________________________\n",
      "None\n"
     ]
    }
   ],
   "source": [
    "rnn_mc_model.load_weights('weights.best.rnn_mc.digits.hdf5')\n",
    "rnn_scores = rnn_mc_model.evaluate(X_test.reshape(X_test.shape[0], 1, X_test.shape[1]), y_test)\n",
    "\n",
    "print(\"\\nRNN Scores: \", (rnn_scores))\n",
    "print(\"RNN Error: %.2f%%\" % (100 - rnn_scores[1] * 100))\n",
    "print(rnn_mc_model.summary())"
   ]
  },
  {
   "cell_type": "code",
   "execution_count": 39,
   "metadata": {},
   "outputs": [],
   "source": [
    "rnn_mc_model.save('kaggle_digits_rnn_mc_model.h5')"
   ]
  },
  {
   "cell_type": "code",
   "execution_count": 40,
   "metadata": {},
   "outputs": [
    {
     "name": "stdout",
     "output_type": "stream",
     "text": [
      "Iteration 1, loss = 0.94199239\n",
      "Iteration 2, loss = 0.39940536\n",
      "Iteration 3, loss = 0.28687496\n",
      "Iteration 4, loss = 0.21918048\n",
      "Iteration 5, loss = 0.17572250\n",
      "Iteration 6, loss = 0.14371476\n",
      "Iteration 7, loss = 0.12046376\n",
      "Iteration 8, loss = 0.09842449\n",
      "Iteration 9, loss = 0.08393928\n",
      "Iteration 10, loss = 0.06942472\n",
      "Iteration 11, loss = 0.05818991\n",
      "Iteration 12, loss = 0.04891394\n",
      "Iteration 13, loss = 0.04022566\n",
      "Iteration 14, loss = 0.03228278\n",
      "Iteration 15, loss = 0.02650230\n",
      "Iteration 16, loss = 0.02270213\n",
      "Iteration 17, loss = 0.01839325\n",
      "Iteration 18, loss = 0.01557433\n",
      "Iteration 19, loss = 0.01298431\n",
      "Iteration 20, loss = 0.01104639\n",
      "Iteration 21, loss = 0.00935877\n",
      "Iteration 22, loss = 0.00781761\n",
      "Iteration 23, loss = 0.00692035\n",
      "Iteration 24, loss = 0.00637705\n",
      "Iteration 25, loss = 0.00556056\n",
      "Iteration 26, loss = 0.00453490\n",
      "Iteration 27, loss = 0.00392471\n",
      "Iteration 28, loss = 0.00361463\n",
      "Iteration 29, loss = 0.00333566\n",
      "Iteration 30, loss = 0.00362815\n",
      "Iteration 31, loss = 0.03055836\n",
      "Iteration 32, loss = 0.00775706\n",
      "Iteration 33, loss = 0.00337955\n",
      "Iteration 34, loss = 0.00285705\n",
      "Iteration 35, loss = 0.00263324\n",
      "Iteration 36, loss = 0.00250323\n",
      "Iteration 37, loss = 0.00239165\n",
      "Iteration 38, loss = 0.00231121\n",
      "Iteration 39, loss = 0.00223426\n",
      "Iteration 40, loss = 0.00216851\n",
      "Iteration 41, loss = 0.00210169\n",
      "Iteration 42, loss = 0.00203938\n",
      "Iteration 43, loss = 0.00199365\n",
      "Iteration 44, loss = 0.00194370\n",
      "Iteration 45, loss = 0.00191799\n",
      "Iteration 46, loss = 0.00187622\n",
      "Iteration 47, loss = 0.02186608\n",
      "Iteration 48, loss = 0.01754913\n",
      "Iteration 49, loss = 0.00403961\n",
      "Iteration 50, loss = 0.00252283\n"
     ]
    }
   ],
   "source": [
    "#MLP SCIKIT\n",
    "\n",
    "\n",
    "clf = MLPClassifier(hidden_layer_sizes=(784,), max_iter=50, alpha=1e-4,\n",
    "                     solver='adam', verbose=1, tol=1e-6, random_state=1,\n",
    "                     learning_rate_init=7e-4, batch_size=128)\n",
    "clf.fit(X_train, y_train);"
   ]
  },
  {
   "cell_type": "code",
   "execution_count": 41,
   "metadata": {},
   "outputs": [
    {
     "name": "stdout",
     "output_type": "stream",
     "text": [
      "MNIST. MLPClassifier. Train score: 100.000000 %\n",
      "MNIST. MLPClassifier. Test score: 97.071429 %\n"
     ]
    }
   ],
   "source": [
    "print(\"MNIST. MLPClassifier. Train score: %f\" % (clf.score(X_train, y_train)*100),'%')\n",
    "print(\"MNIST. MLPClassifier. Test score: %f\" % (clf.score(X_test, y_test)*100),'%')"
   ]
  },
  {
   "cell_type": "code",
   "execution_count": 42,
   "metadata": {},
   "outputs": [],
   "source": [
    "clf2 = MLPClassifier(hidden_layer_sizes=(784,), max_iter=50, alpha=1e-4,\n",
    "                     solver='lbfgs', verbose=1, tol=1e-6, random_state=1,\n",
    "                     learning_rate_init=7e-4, batch_size=128)\n",
    "clf2.fit(X_train, y_train_num);"
   ]
  },
  {
   "cell_type": "code",
   "execution_count": 43,
   "metadata": {},
   "outputs": [
    {
     "name": "stdout",
     "output_type": "stream",
     "text": [
      "MNIST. MLPClassifier. Train score: 97.818452 %\n",
      "MNIST. MLPClassifier. Test score: 97.047619 %\n"
     ]
    }
   ],
   "source": [
    "print(\"MNIST. MLPClassifier. Train score: %f\" % (clf2.score(X_train, y_train_num)*100),'%')\n",
    "print(\"MNIST. MLPClassifier. Test score: %f\" % (clf2.score(X_test, y_test_num)*100),'%')"
   ]
  },
  {
   "cell_type": "code",
   "execution_count": 44,
   "metadata": {},
   "outputs": [],
   "source": [
    "#Classifier\n",
    "\n",
    "classifier_list = []\n",
    "classifier_names = []\n",
    "clf_datasets = []\n",
    "\n",
    "acc_train, acc_test = [], []\n",
    "loss_train, loss_test = [], []"
   ]
  },
  {
   "cell_type": "code",
   "execution_count": 45,
   "metadata": {},
   "outputs": [],
   "source": [
    "def classifier_fit_score(classifier, classifier_name, clf_dataset, x_train, x_test, y_train, y_test):\n",
    "    classifier_list.append(str(classifier))\n",
    "    classifier_names.append(str(classifier_name))\n",
    "    clf_datasets.append(str(clf_dataset))\n",
    "    \n",
    "    clf = classifier\n",
    "    clf.fit(x_train, y_train)\n",
    "    \n",
    "    y_clf_train = clf.predict(x_train)\n",
    "    y_clf_test = clf.predict(x_test)\n",
    "        \n",
    "    acc_clf_train = round(metrics.accuracy_score(y_train, y_clf_train), 4)\n",
    "    acc_train.append(acc_clf_train)\n",
    "    acc_clf_test = round(metrics.accuracy_score(y_test, y_clf_test), 4)\n",
    "    acc_test.append(acc_clf_test)\n",
    "    \n",
    "    loss_clf_train = round(metrics.hamming_loss(y_train, y_clf_train), 4)\n",
    "    loss_train.append(loss_clf_train)\n",
    "    loss_clf_test = round(metrics.hamming_loss(y_test, y_clf_test), 4)\n",
    "    loss_test.append(loss_clf_test)\n",
    "    \n",
    "    return [y_clf_train, y_clf_test, acc_clf_train, acc_clf_test, loss_clf_train, loss_clf_test]"
   ]
  },
  {
   "cell_type": "code",
   "execution_count": 46,
   "metadata": {},
   "outputs": [],
   "source": [
    "def get_classifier_results():\n",
    "    df_results = pd.DataFrame({'classifier' : classifier_list,\n",
    "                               'classifier_name': classifier_names,\n",
    "                               'clf_dataset': clf_datasets,\n",
    "                               'acc_train': acc_train, \n",
    "                               'acc_test': acc_test,\n",
    "                               'loss_train': loss_train, \n",
    "                               'loss_test': loss_test})\n",
    "    \n",
    "    df_list = ['classifier_name', 'acc_train', 'acc_test', 'loss_train', 'loss_test']\n",
    "               \n",
    "    return df_results, df_results[df_list]"
   ]
  },
  {
   "cell_type": "code",
   "execution_count": 47,
   "metadata": {},
   "outputs": [],
   "source": [
    "clf1 = neighbors.KNeighborsClassifier()\n",
    "clf2 = linear_model.LogisticRegressionCV() \n",
    "clf3 = ensemble.GradientBoostingClassifier()"
   ]
  },
  {
   "cell_type": "code",
   "execution_count": 48,
   "metadata": {},
   "outputs": [],
   "source": [
    "y_knc_train, y_knc_test = classifier_fit_score(clf1, 'KNeighborsClassifier', 'digits',\n",
    "                                               X_train, X_test, y_train_num, y_test_num)[:2]"
   ]
  },
  {
   "cell_type": "code",
   "execution_count": 49,
   "metadata": {},
   "outputs": [],
   "source": [
    "y_lrcvc_train, y_lrcvc_test = classifier_fit_score(clf2, 'LogisticRegressionCV', 'digits',\n",
    "                                                   X_train, X_test, y_train_num, y_test_num)[:2]"
   ]
  },
  {
   "cell_type": "code",
   "execution_count": 50,
   "metadata": {},
   "outputs": [],
   "source": [
    "y_gbc_train, y_gbc_test = classifier_fit_score(clf3, 'GradientBoostingClassifier', 'digits',\n",
    "                                               X_train, X_test, y_train_num, y_test_num)[:2]"
   ]
  },
  {
   "cell_type": "code",
   "execution_count": 51,
   "metadata": {},
   "outputs": [
    {
     "data": {
      "text/html": [
       "<div>\n",
       "<style scoped>\n",
       "    .dataframe tbody tr th:only-of-type {\n",
       "        vertical-align: middle;\n",
       "    }\n",
       "\n",
       "    .dataframe tbody tr th {\n",
       "        vertical-align: top;\n",
       "    }\n",
       "\n",
       "    .dataframe thead th {\n",
       "        text-align: right;\n",
       "    }\n",
       "</style>\n",
       "<table border=\"1\" class=\"dataframe\">\n",
       "  <thead>\n",
       "    <tr style=\"text-align: right;\">\n",
       "      <th></th>\n",
       "      <th>classifier_name</th>\n",
       "      <th>acc_train</th>\n",
       "      <th>acc_test</th>\n",
       "      <th>loss_train</th>\n",
       "      <th>loss_test</th>\n",
       "    </tr>\n",
       "  </thead>\n",
       "  <tbody>\n",
       "    <tr>\n",
       "      <th>0</th>\n",
       "      <td>KNeighborsClassifier</td>\n",
       "      <td>0.9778</td>\n",
       "      <td>0.9683</td>\n",
       "      <td>0.0222</td>\n",
       "      <td>0.0317</td>\n",
       "    </tr>\n",
       "    <tr>\n",
       "      <th>2</th>\n",
       "      <td>GradientBoostingClassifier</td>\n",
       "      <td>0.9676</td>\n",
       "      <td>0.9471</td>\n",
       "      <td>0.0324</td>\n",
       "      <td>0.0529</td>\n",
       "    </tr>\n",
       "    <tr>\n",
       "      <th>1</th>\n",
       "      <td>LogisticRegressionCV</td>\n",
       "      <td>0.9281</td>\n",
       "      <td>0.9181</td>\n",
       "      <td>0.0719</td>\n",
       "      <td>0.0819</td>\n",
       "    </tr>\n",
       "  </tbody>\n",
       "</table>\n",
       "</div>"
      ],
      "text/plain": [
       "              classifier_name  acc_train  acc_test  loss_train  loss_test\n",
       "0        KNeighborsClassifier     0.9778    0.9683      0.0222     0.0317\n",
       "2  GradientBoostingClassifier     0.9676    0.9471      0.0324     0.0529\n",
       "1        LogisticRegressionCV     0.9281    0.9181      0.0719     0.0819"
      ]
     },
     "execution_count": 51,
     "metadata": {},
     "output_type": "execute_result"
    }
   ],
   "source": [
    "df_results, df_results2  = get_classifier_results()\n",
    "df_results2.sort_values('acc_test', ascending=False)"
   ]
  },
  {
   "cell_type": "code",
   "execution_count": 52,
   "metadata": {},
   "outputs": [
    {
     "data": {
      "image/png": "[encoded data removed]",
      "text/plain": [
       "<Figure size 1296x720 with 1 Axes>"
      ]
     },
     "metadata": {
      "needs_background": "light"
     },
     "output_type": "display_data"
    }
   ],
   "source": [
    "plt.figure(figsize=(18, 10))\n",
    "n=100\n",
    "x=range(n)\n",
    "\n",
    "plt.scatter(x, y_test_num[:n], marker='*', s=150, color='#37c9e1', alpha=0.7, label='Real data')\n",
    "\n",
    "plt.scatter(x, y_knc_test[:n], marker='v', s=30, color='steelblue', label='K Neighbors Classifier')\n",
    "# plt.scatter(x, y_lrcvc_test[:n], marker='s', s=30, color='darkblue', label='Logistic RegressionCV')\n",
    "# plt.scatter(x, y_gbc_test[:n], marker='o', s=30, color='darkgreen', label='GradientBoostingClassifier')\n",
    "\n",
    "plt.xlabel('Observations', fontsize=12)\n",
    "plt.ylabel('Target', fontsize=12)\n",
    "plt.title('Classifiers, Test Data', fontsize=15)\n",
    "plt.legend(loc=5, fontsize=12);"
   ]
  },
  {
   "cell_type": "code",
   "execution_count": 55,
   "metadata": {},
   "outputs": [
    {
     "name": "stdout",
     "output_type": "stream",
     "text": [
      "Downloading data from https://github.com/fchollet/deep-learning-models/releases/download/v0.1/vgg16_weights_tf_dim_ordering_tf_kernels_notop.h5\n",
      "58892288/58889256 [==============================] - 443s 8us/step\n"
     ]
    }
   ],
   "source": [
    "#Application\n",
    "\n",
    "vgg16_base_model = VGG16(weights='imagenet', include_top=False)\n",
    "X_train_bn = vgg16_base_model.predict(X_train_app)\n",
    "X_test_bn = vgg16_base_model.predict(X_test_app)"
   ]
  },
  {
   "cell_type": "code",
   "execution_count": 56,
   "metadata": {},
   "outputs": [
    {
     "data": {
      "text/plain": [
       "(33600, 1, 1, 512)"
      ]
     },
     "execution_count": 56,
     "metadata": {},
     "output_type": "execute_result"
    }
   ],
   "source": [
    "X_train_bn.shape"
   ]
  },
  {
   "cell_type": "code",
   "execution_count": 57,
   "metadata": {},
   "outputs": [],
   "source": [
    "np.save('X_train_bn.npy', X_train_bn.reshape(X_train_bn.shape[0], X_train_bn.shape[3]))\n",
    "np.save('X_test_bn.npy', X_test_bn.reshape(X_test_bn.shape[0], X_test_bn.shape[3]))"
   ]
  },
  {
   "cell_type": "code",
   "execution_count": 58,
   "metadata": {},
   "outputs": [],
   "source": [
    "X_train_bn = np.load('X_train_bn.npy')\n",
    "X_test_bn = np.load('X_test_bn.npy')\n",
    "X_train_bn = X_train_bn.reshape(X_train_bn.shape[0], 1, 1, X_train_bn.shape[1])\n",
    "X_test_bn = X_test_bn.reshape(X_test_bn.shape[0], 1, 1, X_test_bn.shape[1])"
   ]
  },
  {
   "cell_type": "code",
   "execution_count": 59,
   "metadata": {},
   "outputs": [],
   "source": [
    "def vgg16_add_model():\n",
    "    model = Sequential()\n",
    "    model.add(GlobalMaxPooling2D(input_shape=X_train_bn.shape[1:]))\n",
    "\n",
    "    model.add(Dense(4096, activation='relu'))\n",
    "    model.add(Dropout(0.25))\n",
    "        \n",
    "    model.add(Dense(512, activation='relu'))\n",
    "    model.add(Dropout(0.25))\n",
    "    \n",
    "    model.add(Dense(10, activation='softmax'))\n",
    "    \n",
    "    model.compile(loss='categorical_crossentropy', optimizer='nadam', metrics=['accuracy'])\n",
    "    return model"
   ]
  },
  {
   "cell_type": "code",
   "execution_count": 60,
   "metadata": {},
   "outputs": [],
   "source": [
    "vgg16_add_model = vgg16_add_model()\n",
    "vgg16_checkpointer = ModelCheckpoint(filepath='weights.best.vgg16.digits.hdf5', \n",
    "                                     verbose=2, save_best_only=True)"
   ]
  },
  {
   "cell_type": "code",
   "execution_count": 61,
   "metadata": {},
   "outputs": [
    {
     "name": "stdout",
     "output_type": "stream",
     "text": [
      "\n",
      "Epoch 00001: val_loss improved from inf to 1.52915, saving model to weights.best.vgg16.digits.hdf5\n",
      "\n",
      "Epoch 00002: val_loss improved from 1.52915 to 1.33722, saving model to weights.best.vgg16.digits.hdf5\n",
      "\n",
      "Epoch 00003: val_loss improved from 1.33722 to 1.24157, saving model to weights.best.vgg16.digits.hdf5\n",
      "\n",
      "Epoch 00004: val_loss improved from 1.24157 to 1.13666, saving model to weights.best.vgg16.digits.hdf5\n",
      "\n",
      "Epoch 00005: val_loss improved from 1.13666 to 1.13521, saving model to weights.best.vgg16.digits.hdf5\n",
      "\n",
      "Epoch 00006: val_loss did not improve from 1.13521\n",
      "\n",
      "Epoch 00007: val_loss improved from 1.13521 to 1.07912, saving model to weights.best.vgg16.digits.hdf5\n",
      "\n",
      "Epoch 00008: val_loss improved from 1.07912 to 1.05801, saving model to weights.best.vgg16.digits.hdf5\n",
      "\n",
      "Epoch 00009: val_loss did not improve from 1.05801\n",
      "\n",
      "Epoch 00010: val_loss did not improve from 1.05801\n",
      "\n",
      "Epoch 00011: val_loss did not improve from 1.05801\n",
      "\n",
      "Epoch 00012: val_loss did not improve from 1.05801\n",
      "\n",
      "Epoch 00013: val_loss improved from 1.05801 to 0.99823, saving model to weights.best.vgg16.digits.hdf5\n",
      "\n",
      "Epoch 00014: val_loss improved from 0.99823 to 0.97181, saving model to weights.best.vgg16.digits.hdf5\n",
      "\n",
      "Epoch 00015: val_loss improved from 0.97181 to 0.97172, saving model to weights.best.vgg16.digits.hdf5\n",
      "\n",
      "Epoch 00016: val_loss did not improve from 0.97172\n",
      "\n",
      "Epoch 00017: val_loss improved from 0.97172 to 0.95704, saving model to weights.best.vgg16.digits.hdf5\n",
      "\n",
      "Epoch 00018: val_loss did not improve from 0.95704\n",
      "\n",
      "Epoch 00019: val_loss did not improve from 0.95704\n",
      "\n",
      "Epoch 00020: val_loss did not improve from 0.95704\n",
      "\n",
      "Epoch 00021: val_loss improved from 0.95704 to 0.92479, saving model to weights.best.vgg16.digits.hdf5\n",
      "\n",
      "Epoch 00022: val_loss did not improve from 0.92479\n",
      "\n",
      "Epoch 00023: val_loss did not improve from 0.92479\n",
      "\n",
      "Epoch 00024: val_loss improved from 0.92479 to 0.91062, saving model to weights.best.vgg16.digits.hdf5\n",
      "\n",
      "Epoch 00025: val_loss did not improve from 0.91062\n",
      "\n",
      "Epoch 00026: val_loss did not improve from 0.91062\n",
      "\n",
      "Epoch 00027: val_loss did not improve from 0.91062\n",
      "\n",
      "Epoch 00028: val_loss did not improve from 0.91062\n",
      "\n",
      "Epoch 00029: val_loss did not improve from 0.91062\n",
      "\n",
      "Epoch 00030: val_loss improved from 0.91062 to 0.90348, saving model to weights.best.vgg16.digits.hdf5\n",
      "\n",
      "Epoch 00031: val_loss did not improve from 0.90348\n",
      "\n",
      "Epoch 00032: val_loss improved from 0.90348 to 0.89350, saving model to weights.best.vgg16.digits.hdf5\n",
      "\n",
      "Epoch 00033: val_loss did not improve from 0.89350\n",
      "\n",
      "Epoch 00034: val_loss improved from 0.89350 to 0.89059, saving model to weights.best.vgg16.digits.hdf5\n",
      "\n",
      "Epoch 00035: val_loss did not improve from 0.89059\n",
      "\n",
      "Epoch 00036: val_loss did not improve from 0.89059\n",
      "\n",
      "Epoch 00037: val_loss did not improve from 0.89059\n",
      "\n",
      "Epoch 00038: val_loss did not improve from 0.89059\n",
      "\n",
      "Epoch 00039: val_loss did not improve from 0.89059\n",
      "\n",
      "Epoch 00040: val_loss improved from 0.89059 to 0.88988, saving model to weights.best.vgg16.digits.hdf5\n",
      "\n",
      "Epoch 00041: val_loss improved from 0.88988 to 0.88483, saving model to weights.best.vgg16.digits.hdf5\n",
      "\n",
      "Epoch 00042: val_loss did not improve from 0.88483\n",
      "\n",
      "Epoch 00043: val_loss did not improve from 0.88483\n",
      "\n",
      "Epoch 00044: val_loss improved from 0.88483 to 0.88186, saving model to weights.best.vgg16.digits.hdf5\n",
      "\n",
      "Epoch 00045: val_loss improved from 0.88186 to 0.87800, saving model to weights.best.vgg16.digits.hdf5\n",
      "\n",
      "Epoch 00046: val_loss did not improve from 0.87800\n",
      "\n",
      "Epoch 00047: val_loss did not improve from 0.87800\n",
      "\n",
      "Epoch 00048: val_loss did not improve from 0.87800\n",
      "\n",
      "Epoch 00049: val_loss did not improve from 0.87800\n",
      "\n",
      "Epoch 00050: val_loss improved from 0.87800 to 0.87563, saving model to weights.best.vgg16.digits.hdf5\n"
     ]
    }
   ],
   "source": [
    "vgg16_add_history = vgg16_add_model.fit(X_train_bn, y_train, \n",
    "                                        validation_data=(X_test_bn, y_test),\n",
    "                                        epochs=50, batch_size=128, \n",
    "                                        callbacks=[vgg16_checkpointer], verbose=0);"
   ]
  },
  {
   "cell_type": "code",
   "execution_count": 65,
   "metadata": {},
   "outputs": [
    {
     "name": "stdout",
     "output_type": "stream",
     "text": [
      "4200/4200 [==============================] - 1s 120us/step\n",
      "Accuracy: 70.50%\n"
     ]
    }
   ],
   "source": [
    "vgg16_add_model.load_weights('weights.best.vgg16.digits.hdf5')\n",
    "vgg16_test_scores = vgg16_add_model.evaluate(X_test_bn, y_test)\n",
    "print(\"Accuracy: %.2f%%\" % (vgg16_test_scores[1]*100))"
   ]
  },
  {
   "cell_type": "code",
   "execution_count": 66,
   "metadata": {},
   "outputs": [
    {
     "data": {
      "text/plain": [
       "array([2, 0, 9, 0, 3, 7, 0, 3, 0, 3, 5, 7, 4, 0, 4, 3, 3, 1, 9, 0, 9, 1,\n",
       "       1, 5, 7, 4, 2, 7, 4, 7, 7, 5, 4, 2, 6, 2, 5, 5, 1, 6, 7, 7, 4, 9,\n",
       "       8, 7, 8, 2, 6, 7, 6, 8, 8, 3, 8, 2, 1, 2, 2, 0, 4, 1, 7, 0, 0, 0,\n",
       "       1, 9, 0, 1, 6, 5, 8, 8, 2, 8, 9, 9, 2, 3, 5, 4, 1, 0, 9, 2, 4, 3,\n",
       "       6, 7, 2, 0, 6, 6, 1, 4, 3, 9, 7, 4], dtype=int64)"
      ]
     },
     "execution_count": 66,
     "metadata": {},
     "output_type": "execute_result"
    }
   ],
   "source": [
    "# results\n",
    "\n",
    "predict_labels_cnn = cnn_mc_model.predict(test_images.reshape(28000,28,28,1))\n",
    "predict_labels_cnn = predict_labels_cnn.argmax(axis=-1)\n",
    "predict_labels_cnn[:100]"
   ]
  },
  {
   "cell_type": "code",
   "execution_count": 67,
   "metadata": {},
   "outputs": [
    {
     "data": {
      "text/plain": [
       "array([2, 0, 9, 9, 3, 7, 0, 3, 0, 3, 5, 7, 4, 0, 4, 3, 3, 1, 9, 0, 9, 1,\n",
       "       1, 5, 7, 4, 2, 7, 4, 7, 7, 5, 4, 2, 6, 2, 5, 5, 1, 6, 7, 7, 4, 9,\n",
       "       8, 7, 8, 2, 6, 7, 6, 8, 8, 3, 8, 2, 1, 2, 2, 0, 4, 1, 7, 0, 0, 0,\n",
       "       1, 9, 0, 1, 6, 5, 8, 8, 2, 8, 5, 9, 2, 3, 5, 9, 1, 0, 9, 2, 4, 3,\n",
       "       6, 7, 2, 0, 6, 6, 1, 4, 3, 9, 7, 4], dtype=int64)"
      ]
     },
     "execution_count": 67,
     "metadata": {},
     "output_type": "execute_result"
    }
   ],
   "source": [
    "predict_labels_mlp = mlp_mc_model.predict_classes(test_images)\n",
    "predict_labels_mlp[:100]"
   ]
  },
  {
   "cell_type": "code",
   "execution_count": 68,
   "metadata": {},
   "outputs": [
    {
     "data": {
      "text/plain": [
       "array([2, 0, 9, 9, 3, 7, 0, 3, 0, 3, 5, 7, 4, 0, 4, 3, 3, 1, 9, 0, 9, 1,\n",
       "       1, 5, 7, 4, 2, 7, 4, 7, 7, 5, 4, 2, 6, 2, 5, 5, 1, 6, 7, 7, 4, 9,\n",
       "       8, 7, 8, 2, 6, 7, 6, 8, 8, 3, 8, 2, 1, 2, 2, 0, 4, 1, 7, 0, 0, 0,\n",
       "       1, 9, 0, 1, 6, 5, 8, 8, 2, 8, 9, 9, 2, 3, 5, 9, 1, 0, 9, 2, 4, 3,\n",
       "       6, 7, 2, 0, 6, 6, 1, 4, 3, 9, 7, 4], dtype=int64)"
      ]
     },
     "execution_count": 68,
     "metadata": {},
     "output_type": "execute_result"
    }
   ],
   "source": [
    "predict_labels_rnn = rnn_mc_model.predict_classes(test_images.reshape(28000,1,784))\n",
    "predict_labels_rnn[:100]"
   ]
  },
  {
   "cell_type": "code",
   "execution_count": 69,
   "metadata": {},
   "outputs": [
    {
     "data": {
      "text/plain": [
       "array([2, 0, 9, 9, 3, 0, 0, 3, 0, 3, 5, 7, 4, 0, 4, 3, 3, 1, 9, 0, 9, 1,\n",
       "       1, 5, 7, 4, 2, 7, 4, 7, 7, 5, 4, 2, 6, 2, 5, 5, 1, 6, 7, 7, 4, 9,\n",
       "       8, 7, 8, 2, 6, 7, 6, 8, 8, 3, 8, 2, 1, 2, 2, 0, 4, 1, 7, 0, 0, 0,\n",
       "       1, 9, 0, 1, 6, 5, 8, 8, 2, 8, 8, 9, 2, 3, 5, 9, 1, 0, 9, 2, 4, 3,\n",
       "       6, 7, 2, 0, 6, 6, 1, 4, 3, 9, 7, 4], dtype=int64)"
      ]
     },
     "execution_count": 69,
     "metadata": {},
     "output_type": "execute_result"
    }
   ],
   "source": [
    "predict_labels_mlpc = clf.predict(test_images)\n",
    "predict_labels_mlpc_num = np.array([np.argmax(x) for x in predict_labels_mlpc])\n",
    "predict_labels_mlpc_num[:100]"
   ]
  },
  {
   "cell_type": "code",
   "execution_count": 70,
   "metadata": {},
   "outputs": [
    {
     "name": "stdout",
     "output_type": "stream",
     "text": [
      "    ImageId  Label\n",
      "0         1      2\n",
      "1         2      0\n",
      "2         3      9\n",
      "3         4      0\n",
      "4         5      3\n",
      "5         6      7\n",
      "6         7      0\n",
      "7         8      3\n",
      "8         9      0\n",
      "9        10      3\n",
      "10       11      5\n",
      "11       12      7\n",
      "12       13      4\n",
      "13       14      0\n",
      "14       15      4\n",
      "15       16      3\n",
      "16       17      3\n",
      "17       18      1\n",
      "18       19      9\n",
      "19       20      0\n"
     ]
    }
   ],
   "source": [
    "submission_cnn = pd.DataFrame({\"ImageId\": range(1, len(predict_labels_cnn)+1), \n",
    "                               \"Label\": predict_labels_cnn})\n",
    "print(submission_cnn[0:20])\n",
    "submission_cnn.to_csv('kaggle_digits_cnn_mc_model.csv', index=False)"
   ]
  },
  {
   "cell_type": "code",
   "execution_count": 71,
   "metadata": {},
   "outputs": [
    {
     "name": "stdout",
     "output_type": "stream",
     "text": [
      "    ImageId  Label\n",
      "0         1      2\n",
      "1         2      0\n",
      "2         3      9\n",
      "3         4      9\n",
      "4         5      3\n",
      "5         6      7\n",
      "6         7      0\n",
      "7         8      3\n",
      "8         9      0\n",
      "9        10      3\n",
      "10       11      5\n",
      "11       12      7\n",
      "12       13      4\n",
      "13       14      0\n",
      "14       15      4\n",
      "15       16      3\n",
      "16       17      3\n",
      "17       18      1\n",
      "18       19      9\n",
      "19       20      0\n"
     ]
    }
   ],
   "source": [
    "submission_mlp = pd.DataFrame({\"ImageId\": range(1, len(predict_labels_mlp)+1), \n",
    "                               \"Label\": predict_labels_mlp})\n",
    "print(submission_mlp[:20])\n",
    "submission_mlp.to_csv('kaggle_digits_mlp_mc_model.csv', index=False)"
   ]
  },
  {
   "cell_type": "code",
   "execution_count": 72,
   "metadata": {},
   "outputs": [
    {
     "name": "stdout",
     "output_type": "stream",
     "text": [
      "    ImageId  Label\n",
      "0         1      2\n",
      "1         2      0\n",
      "2         3      9\n",
      "3         4      9\n",
      "4         5      3\n",
      "5         6      7\n",
      "6         7      0\n",
      "7         8      3\n",
      "8         9      0\n",
      "9        10      3\n",
      "10       11      5\n",
      "11       12      7\n",
      "12       13      4\n",
      "13       14      0\n",
      "14       15      4\n",
      "15       16      3\n",
      "16       17      3\n",
      "17       18      1\n",
      "18       19      9\n",
      "19       20      0\n"
     ]
    }
   ],
   "source": [
    "submission_rnn = pd.DataFrame({\"ImageId\": range(1, len(predict_labels_rnn)+1), \n",
    "                               \"Label\": predict_labels_rnn})\n",
    "print(submission_rnn[0:20])\n",
    "submission_rnn.to_csv('kaggle_digits_rnn_mc_model.csv', index=False)"
   ]
  },
  {
   "cell_type": "code",
   "execution_count": 73,
   "metadata": {},
   "outputs": [
    {
     "name": "stdout",
     "output_type": "stream",
     "text": [
      "    ImageId  Label\n",
      "0         1      2\n",
      "1         2      0\n",
      "2         3      9\n",
      "3         4      9\n",
      "4         5      3\n",
      "5         6      0\n",
      "6         7      0\n",
      "7         8      3\n",
      "8         9      0\n",
      "9        10      3\n",
      "10       11      5\n",
      "11       12      7\n",
      "12       13      4\n",
      "13       14      0\n",
      "14       15      4\n",
      "15       16      3\n",
      "16       17      3\n",
      "17       18      1\n",
      "18       19      9\n",
      "19       20      0\n"
     ]
    }
   ],
   "source": [
    "submission_mlpc = pd.DataFrame({\"ImageId\": range(1, len(predict_labels_mlpc_num)+1), \n",
    "                                \"Label\": predict_labels_mlpc_num})\n",
    "print(submission_mlpc[0:20])\n",
    "submission_mlpc.to_csv('kaggle_digits_mlpc_model.csv', index=False)"
   ]
  },
  {
   "cell_type": "code",
   "execution_count": 74,
   "metadata": {},
   "outputs": [],
   "source": [
    "real_data = np.array([2, 0, 9, 0, 3, 7, 0, 3, 0, 3,\n",
    "                      5, 7, 4, 0, 4, 3, 3, 1, 9, 0,\n",
    "                      9, 1, 1, 5, 7, 4, 2, 7, 4, 7,\n",
    "                      7, 5, 4, 2, 6, 2, 5, 5, 1, 6,\n",
    "                      7, 7, 4, 9, 8, 7, 8, 2, 6, 7,\n",
    "                      6, 8, 8, 3, 8, 2, 1, 2, 2, 0,\n",
    "                      4, 1, 7, 0, 0, 0, 1, 9, 0, 1,\n",
    "                      6, 5, 8, 8, 2, 8, 9, 9, 2, 3,\n",
    "                      5, 4, 1, 0, 9, 2, 4, 3, 6, 7,\n",
    "                      2, 0, 6, 6, 1, 4, 3, 9, 7, 4,\n",
    "                      0, 9, 2, 0, 7, 3, 0, 5, 0, 8,\n",
    "                      0, 0, 4, 7, 1, 7, 1, 1, 3, 3,\n",
    "                      3, 7, 2, 8, 6, 3, 8, 7, 7, 4,\n",
    "                      3, 5, 4, 0, 0, 0, 3, 1, 3, 6,\n",
    "                      4, 3, 4, 5, 5, 8, 7, 4, 2, 8,\n",
    "                      4, 3, 5, 6, 5, 3, 7, 5, 7, 8,\n",
    "                      3, 0, 4, 5, 1, 3, 7, 6, 3, 0,\n",
    "                      2, 7, 8, 6, 1, 3, 7, 4, 1, 2,\n",
    "                      4, 8, 5, 2, 4, 9, 2, 1, 6, 0,\n",
    "                      6, 1, 4, 9, 6, 0, 9, 7, 6, 9,\n",
    "                      1, 9, 0, 9, 9, 0, 8, 4, 6, 2,\n",
    "                      0, 9, 3, 6, 3, 2, 1, 6, 3, 4,\n",
    "                      2, 3, 1, 2, 2, 0, 4, 6, 1, 0,\n",
    "                      0, 4, 9, 1, 7, 3, 2, 3, 8, 6,\n",
    "                      8, 6, 2, 8, 5, 5, 4, 8, 3, 5,\n",
    "                      9, 7, 1, 3, 8, 4, 5, 1, 4, 5,\n",
    "                      6, 3, 3, 5, 7, 0, 6, 8, 3, 1,\n",
    "                      6, 0, 6, 3, 9, 5, 1, 5, 8, 4,\n",
    "                      0, 9, 2, 0, 5, 3, 7, 1, 9, 9,\n",
    "                      5, 7, 7, 9, 9, 6, 3, 0, 3, 3])"
   ]
  },
  {
   "cell_type": "code",
   "execution_count": 75,
   "metadata": {},
   "outputs": [
    {
     "data": {
      "image/png": "[encoded data removed]",
      "text/plain": [
       "<Figure size 1296x720 with 1 Axes>"
      ]
     },
     "metadata": {
      "needs_background": "light"
     },
     "output_type": "display_data"
    }
   ],
   "source": [
    "plt.figure(figsize = (18, 10))\n",
    "\n",
    "plt.plot(real_data[0:300], '*', ms=12, c='#37c9e1', label='Real Data')\n",
    "\n",
    "plt.plot(submission_cnn['Label'][0:300], 'bo', ms=5, label='CNN')\n",
    "plt.plot(submission_mlp['Label'][0:200], 'v', ms=5, label='MLP')\n",
    "plt.plot(submission_rnn['Label'][0:200], 's', ms=5, label='RNN')\n",
    "plt.plot(submission_mlpc['Label'][0:200], 'p', ms=5, label='MLPC')\n",
    "\n",
    "plt.legend(loc=6)\n",
    "plt.title(\"Predictions\");"
   ]
  },
  {
   "cell_type": "code",
   "execution_count": 76,
   "metadata": {},
   "outputs": [
    {
     "data": {
      "image/png": "[encoded data removed]",
      "text/plain": [
       "<Figure size 1296x288 with 20 Axes>"
      ]
     },
     "metadata": {},
     "output_type": "display_data"
    }
   ],
   "source": [
    "fig, ax = plt.subplots(figsize=(18, 4), nrows=2, ncols=10, sharex=True, sharey=True,)\n",
    "ax = ax.flatten()\n",
    "for i in range(20):\n",
    "    image = test_images[100:120][i].reshape(28,28)\n",
    "    ax[i].imshow(image, cmap=cm.bone)\n",
    "\n",
    "ax[0].set_xticks([])\n",
    "ax[0].set_yticks([])\n",
    "plt.tight_layout()\n",
    "plt.gcf()\n",
    "ax[4].set_title('Examples of the 784-dimensional digits. Test datapoints', fontsize=25);"
   ]
  }
 ],
 "metadata": {
  "kernelspec": {
   "display_name": "Python 3",
   "language": "python",
   "name": "python3"
  },
  "language_info": {
   "codemirror_mode": {
    "name": "ipython",
    "version": 3
   },
   "file_extension": ".py",
   "mimetype": "text/x-python",
   "name": "python",
   "nbconvert_exporter": "python",
   "pygments_lexer": "ipython3",
   "version": "3.6.7"
  }
 },
 "nbformat": 4,
 "nbformat_minor": 2
}
